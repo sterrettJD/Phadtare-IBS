{
 "cells": [
  {
   "cell_type": "code",
   "execution_count": 14,
   "metadata": {},
   "outputs": [],
   "source": [
    "import pandas as pd\n",
    "import numpy as np\n",
    "import seaborn as sns\n",
    "import matplotlib.pyplot as plt\n",
    "\n",
    "%matplotlib inline"
   ]
  },
  {
   "cell_type": "markdown",
   "metadata": {},
   "source": [
    "# Add psuedocount"
   ]
  },
  {
   "cell_type": "markdown",
   "metadata": {},
   "source": [
    ">! qiime composition add-pseudocount \\\n",
    "--i-table Data/tax-6-table.qza \\\n",
    "--o-composition-table Data/tax-6-psuedo-table.qza"
   ]
  },
  {
   "cell_type": "markdown",
   "metadata": {},
   "source": [
    "# ANCOM\n",
    "## IBS"
   ]
  },
  {
   "cell_type": "markdown",
   "metadata": {},
   "source": [
    ">! qiime composition ancom \\\n",
    "--i-table Data/tax-6-psuedo-table.qza \\\n",
    "--m-metadata-file Data/IBS-metadata.txt \\\n",
    "--m-metadata-column IBS \\\n",
    "--o-visualization ANCOM-res/L6-IBS.qzv"
   ]
  },
  {
   "cell_type": "markdown",
   "metadata": {},
   "source": [
    "#### Results:\n",
    "\n",
    "- Identified one differentially abundant taxon: d__Bacteria;p__Firmicutes;c__Clostridia;o__Lachnospirales;f__Lachnospiraceae;g__Lachnospiraceae_ND3007_group W= 42"
   ]
  },
  {
   "cell_type": "code",
   "execution_count": 48,
   "metadata": {},
   "outputs": [],
   "source": [
    "tax = Artifact.load(\"Data/tax-6-table.qza\").view(pd.DataFrame)\n",
    "\n",
    "#Convert to relative abundance\n",
    "tax_mat = np.matrix(tax)\n",
    "tax_mat /= np.sum(tax_mat, axis=1)\n",
    "\n",
    "tax = pd.DataFrame(tax_mat,\n",
    "                   index=tax.index,\n",
    "                   columns=tax.columns)"
   ]
  },
  {
   "cell_type": "code",
   "execution_count": 49,
   "metadata": {},
   "outputs": [
    {
     "data": {
      "text/plain": [
       "<matplotlib.axes._subplots.AxesSubplot at 0x13ebb5eb8>"
      ]
     },
     "execution_count": 49,
     "metadata": {},
     "output_type": "execute_result"
    },
    {
     "data": {
      "image/png": "[encoded data removed]",
      "text/plain": [
       "<Figure size 432x288 with 1 Axes>"
      ]
     },
     "metadata": {
      "needs_background": "light"
     },
     "output_type": "display_data"
    }
   ],
   "source": [
    "tax[\"d__Bacteria;p__Firmicutes;c__Clostridia;o__Lachnospirales;f__Lachnospiraceae;g__Lachnospiraceae_ND3007_group\"].hist()"
   ]
  },
  {
   "cell_type": "code",
   "execution_count": 27,
   "metadata": {},
   "outputs": [],
   "source": [
    "metadata = pd.read_csv(\"Data/IBS-metadata.txt\", sep=\"\\t\", index_col=\"Sampleid\")"
   ]
  },
  {
   "cell_type": "code",
   "execution_count": 66,
   "metadata": {},
   "outputs": [
    {
     "data": {
      "image/png": "[encoded data removed]",
      "text/plain": [
       "<Figure size 432x288 with 1 Axes>"
      ]
     },
     "metadata": {
      "needs_background": "light"
     },
     "output_type": "display_data"
    }
   ],
   "source": [
    "ax = sns.boxplot(x=metadata[\"IBS\"].apply(lambda x: \"IBS\" if x==\"Y\" else \"Healthy Control\"),\n",
    "                y=tax[\"d__Bacteria;p__Firmicutes;c__Clostridia;o__Lachnospirales;f__Lachnospiraceae;g__Lachnospiraceae_ND3007_group\"],\n",
    "                palette=[\"g\",\"m\"])\n",
    "\n",
    "ax.set_ylabel(r\"$Lachnospiraceae$ ND3007 group\")\n",
    "ax.set_xlabel(\"\")\n",
    "\n",
    "plt.savefig(\"Figures/ANCOM-Lachnospiraceae.pdf\")\n",
    "plt.show()"
   ]
  },
  {
   "cell_type": "markdown",
   "metadata": {},
   "source": [
    "## IBS Type"
   ]
  },
  {
   "cell_type": "code",
   "execution_count": 18,
   "metadata": {},
   "outputs": [
    {
     "name": "stdout",
     "output_type": "stream",
     "text": [
      "\u001b[32mSaved Visualization to: ANCOM-res/L6-IBStype.qzv\u001b[0m\r\n"
     ]
    }
   ],
   "source": [
    "! qiime composition ancom \\\n",
    "--i-table Data/tax-6-psuedo-table.qza \\\n",
    "--m-metadata-file Data/IBS-metadata-ancom.txt \\\n",
    "--m-metadata-column IBS-Type \\\n",
    "--o-visualization ANCOM-res/L6-IBStype.qzv"
   ]
  },
  {
   "cell_type": "markdown",
   "metadata": {},
   "source": [
    "#### Results:\n",
    "- Identified one differentially abundant taxon: d__Bacteria;p__Firmicutes;c__Clostridia;o__Lachnospirales;f__Lachnospiraceae;g__Eisenbergiella\tW = 150"
   ]
  },
  {
   "cell_type": "code",
   "execution_count": 67,
   "metadata": {},
   "outputs": [
    {
     "data": {
      "image/png": "[encoded data removed]",
      "text/plain": [
       "<Figure size 432x288 with 1 Axes>"
      ]
     },
     "metadata": {
      "needs_background": "light"
     },
     "output_type": "display_data"
    }
   ],
   "source": [
    "ax = sns.boxplot(x=metadata[\"IBS Type\"],\n",
    "                y=tax[\"d__Bacteria;p__Firmicutes;c__Clostridia;o__Lachnospirales;f__Lachnospiraceae;g__Eisenbergiella\"],\n",
    "                order=[\"control\",\"IBS-D\",\"IBS-M\",\"IBS-C\"],\n",
    "                palette=[\"g\",\"r\",\"m\",\"b\"])\n",
    "\n",
    "ax.set_ylabel(r\"$Eisenbergiella$\")\n",
    "ax.set_xlabel(\"\")\n",
    "plt.savefig(\"Figures/ANCOM-Eisenbergiella.pdf\")\n",
    "plt.show()"
   ]
  },
  {
   "cell_type": "markdown",
   "metadata": {},
   "source": [
    "## High fructose corn syrup"
   ]
  },
  {
   "cell_type": "code",
   "execution_count": 20,
   "metadata": {},
   "outputs": [],
   "source": [
    "from skbio.stats.composition import ancom\n",
    "from qiime2 import Artifact"
   ]
  },
  {
   "cell_type": "code",
   "execution_count": 22,
   "metadata": {},
   "outputs": [],
   "source": [
    "ptax = Artifact.load(\"Data/tax-6-psuedo-table.qza\").view(pd.DataFrame)"
   ]
  },
  {
   "cell_type": "code",
   "execution_count": 32,
   "metadata": {},
   "outputs": [
    {
     "data": {
      "text/plain": [
       "<matplotlib.axes._subplots.AxesSubplot at 0x1370db3c8>"
      ]
     },
     "execution_count": 32,
     "metadata": {},
     "output_type": "execute_result"
    },
    {
     "data": {
      "image/png": "[encoded data removed]",
      "text/plain": [
       "<Figure size 432x288 with 1 Axes>"
      ]
     },
     "metadata": {
      "needs_background": "light"
     },
     "output_type": "display_data"
    }
   ],
   "source": [
    "metadata[\"TOTAL EST HFCS (per month in grams)\"].hist()"
   ]
  },
  {
   "cell_type": "markdown",
   "metadata": {},
   "source": [
    "**It looks like there's a group that has < 1000, and then another group > 1000**"
   ]
  },
  {
   "cell_type": "code",
   "execution_count": 33,
   "metadata": {},
   "outputs": [],
   "source": [
    "metadata[\"HFCS/month > 1000\"] = metadata[\"TOTAL EST HFCS (per month in grams)\"].apply(lambda x: \"High\" if x>1000 else \"Low\")"
   ]
  },
  {
   "cell_type": "code",
   "execution_count": 43,
   "metadata": {},
   "outputs": [],
   "source": [
    "HFCS_ancom = ancom(ptax,\n",
    "                  grouping=metadata[\"HFCS/month > 1000\"])[0]"
   ]
  },
  {
   "cell_type": "markdown",
   "metadata": {},
   "source": [
    "#### Results"
   ]
  },
  {
   "cell_type": "code",
   "execution_count": 44,
   "metadata": {},
   "outputs": [
    {
     "data": {
      "text/html": [
       "<div>\n",
       "<style scoped>\n",
       "    .dataframe tbody tr th:only-of-type {\n",
       "        vertical-align: middle;\n",
       "    }\n",
       "\n",
       "    .dataframe tbody tr th {\n",
       "        vertical-align: top;\n",
       "    }\n",
       "\n",
       "    .dataframe thead th {\n",
       "        text-align: right;\n",
       "    }\n",
       "</style>\n",
       "<table border=\"1\" class=\"dataframe\">\n",
       "  <thead>\n",
       "    <tr style=\"text-align: right;\">\n",
       "      <th></th>\n",
       "      <th>W</th>\n",
       "      <th>Reject null hypothesis</th>\n",
       "    </tr>\n",
       "  </thead>\n",
       "  <tbody>\n",
       "  </tbody>\n",
       "</table>\n",
       "</div>"
      ],
      "text/plain": [
       "Empty DataFrame\n",
       "Columns: [W, Reject null hypothesis]\n",
       "Index: []"
      ]
     },
     "execution_count": 44,
     "metadata": {},
     "output_type": "execute_result"
    }
   ],
   "source": [
    "HFCS_ancom[HFCS_ancom[\"Reject null hypothesis\"]==True]"
   ]
  },
  {
   "cell_type": "code",
   "execution_count": 65,
   "metadata": {},
   "outputs": [
    {
     "data": {
      "image/png": "[encoded data removed]",
      "text/plain": [
       "<Figure size 432x288 with 1 Axes>"
      ]
     },
     "metadata": {
      "needs_background": "light"
     },
     "output_type": "display_data"
    }
   ],
   "source": [
    "ax = sns.boxplot(x=metadata[\"IBS Type\"],\n",
    "                y=metadata[\"TOTAL EST HFCS (per month in grams)\"],\n",
    "                order=[\"control\",\"IBS-D\",\"IBS-M\",\"IBS-C\"],\n",
    "                palette=[\"g\",\"r\",\"m\",\"b\"])\n",
    "\n",
    "ax.set_ylabel(\"Estimated HFCS/month (grams)\")\n",
    "plt.savefig(\"Figures/HFCS-IBStype.pdf\")\n",
    "plt.show()"
   ]
  },
  {
   "cell_type": "code",
   "execution_count": null,
   "metadata": {},
   "outputs": [],
   "source": []
  }
 ],
 "metadata": {
  "kernelspec": {
   "display_name": "Python 3",
   "language": "python",
   "name": "python3"
  },
  "language_info": {
   "codemirror_mode": {
    "name": "ipython",
    "version": 3
   },
   "file_extension": ".py",
   "mimetype": "text/x-python",
   "name": "python",
   "nbconvert_exporter": "python",
   "pygments_lexer": "ipython3",
   "version": "3.6.12"
  }
 },
 "nbformat": 4,
 "nbformat_minor": 4
}
