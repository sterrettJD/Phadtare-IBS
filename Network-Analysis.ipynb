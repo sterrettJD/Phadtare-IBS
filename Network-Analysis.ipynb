{
 "cells": [
  {
   "cell_type": "code",
   "execution_count": 140,
   "metadata": {},
   "outputs": [],
   "source": [
    "import matplotlib.pyplot as plt\n",
    "import matplotlib.cm as cmap\n",
    "from matplotlib.lines import Line2D\n",
    "import community.community_louvain as community_louvain\n",
    "import networkx as nx\n",
    "import pandas as pd\n",
    "import numpy as np\n",
    "from qiime2 import Artifact\n",
    "from skbio.stats.composition import clr\n",
    "from scipy.stats import pearsonr\n",
    "\n",
    "%matplotlib inline"
   ]
  },
  {
   "cell_type": "code",
   "execution_count": 218,
   "metadata": {},
   "outputs": [],
   "source": [
    "tax_p_df = Artifact.load(\"Data/tax-6-psuedo-table.qza\").view(pd.DataFrame)\n",
    "\n",
    "tax_mat = np.matrix(tax_p_df)\n",
    "tax_mat /= np.sum(tax_mat, axis=1)\n",
    "\n",
    "tax_p_df = pd.DataFrame(tax_mat,\n",
    "                   index=tax_p_df.index,\n",
    "                   columns=tax_p_df.columns)"
   ]
  },
  {
   "cell_type": "code",
   "execution_count": 220,
   "metadata": {},
   "outputs": [],
   "source": [
    "tax_df_clr = pd.DataFrame(clr(tax_p_df),\n",
    "                          index=tax_p_df.index,\n",
    "                          columns=tax_p_df.columns)\n",
    "\n",
    "clr_pear = tax_df_clr.corr()\n",
    "\n",
    "links = clr_pear.stack().reset_index()\n",
    "links.columns = ['var1', 'var2', 'value']\n",
    "\n",
    "\n",
    "links_filtered=links.loc[ (links['value'] > 0.8) & (links['var1'] != links['var2']) ]\n",
    "\n",
    "for ind in links_filtered.index:\n",
    "    r, p = pearsonr(tax_df_clr[links_filtered.loc[ind,\"var1\"]],\n",
    "                    tax_df_clr[links_filtered.loc[ind,\"var2\"]])\n",
    "    if p > 0.05:\n",
    "        links_filtered.drop(ind, inplace=True)"
   ]
  },
  {
   "cell_type": "code",
   "execution_count": 221,
   "metadata": {},
   "outputs": [
    {
     "data": {
      "text/html": [
       "<div>\n",
       "<style scoped>\n",
       "    .dataframe tbody tr th:only-of-type {\n",
       "        vertical-align: middle;\n",
       "    }\n",
       "\n",
       "    .dataframe tbody tr th {\n",
       "        vertical-align: top;\n",
       "    }\n",
       "\n",
       "    .dataframe thead th {\n",
       "        text-align: right;\n",
       "    }\n",
       "</style>\n",
       "<table border=\"1\" class=\"dataframe\">\n",
       "  <thead>\n",
       "    <tr style=\"text-align: right;\">\n",
       "      <th></th>\n",
       "      <th>var1</th>\n",
       "      <th>var2</th>\n",
       "      <th>value</th>\n",
       "    </tr>\n",
       "  </thead>\n",
       "  <tbody>\n",
       "    <tr>\n",
       "      <th>525</th>\n",
       "      <td>d__Archaea;p__Euryarchaeota;c__Methanobacteria...</td>\n",
       "      <td>d__Bacteria;p__Actinobacteriota;c__Coriobacter...</td>\n",
       "      <td>0.922288</td>\n",
       "    </tr>\n",
       "    <tr>\n",
       "      <th>726</th>\n",
       "      <td>d__Archaea;p__Euryarchaeota;c__Methanobacteria...</td>\n",
       "      <td>d__Bacteria;p__Firmicutes;c__Negativicutes;o__...</td>\n",
       "      <td>0.881695</td>\n",
       "    </tr>\n",
       "    <tr>\n",
       "      <th>727</th>\n",
       "      <td>d__Archaea;p__Euryarchaeota;c__Methanobacteria...</td>\n",
       "      <td>d__Bacteria;p__Firmicutes;c__Negativicutes;o__...</td>\n",
       "      <td>0.999990</td>\n",
       "    </tr>\n",
       "    <tr>\n",
       "      <th>734</th>\n",
       "      <td>d__Archaea;p__Euryarchaeota;c__Methanobacteria...</td>\n",
       "      <td>d__Bacteria;p__Fusobacteriota;c__Fusobacteriia...</td>\n",
       "      <td>0.933017</td>\n",
       "    </tr>\n",
       "    <tr>\n",
       "      <th>778</th>\n",
       "      <td>d__Archaea;p__Thermoplasmatota;c__Thermoplasma...</td>\n",
       "      <td>d__Bacteria;p__Actinobacteriota;c__Coriobacter...</td>\n",
       "      <td>0.928212</td>\n",
       "    </tr>\n",
       "    <tr>\n",
       "      <th>...</th>\n",
       "      <td>...</td>\n",
       "      <td>...</td>\n",
       "      <td>...</td>\n",
       "    </tr>\n",
       "    <tr>\n",
       "      <th>61453</th>\n",
       "      <td>d__Bacteria;p__Proteobacteria;c__Gammaproteoba...</td>\n",
       "      <td>d__Bacteria;p__Proteobacteria;c__Gammaproteoba...</td>\n",
       "      <td>0.997758</td>\n",
       "    </tr>\n",
       "    <tr>\n",
       "      <th>61474</th>\n",
       "      <td>d__Bacteria;p__Proteobacteria;c__Gammaproteoba...</td>\n",
       "      <td>d__Bacteria;p__Actinobacteriota;c__Actinobacte...</td>\n",
       "      <td>0.848917</td>\n",
       "    </tr>\n",
       "    <tr>\n",
       "      <th>61550</th>\n",
       "      <td>d__Bacteria;p__Proteobacteria;c__Gammaproteoba...</td>\n",
       "      <td>d__Bacteria;p__Firmicutes;c__Bacilli;o__Staphy...</td>\n",
       "      <td>0.837976</td>\n",
       "    </tr>\n",
       "    <tr>\n",
       "      <th>61700</th>\n",
       "      <td>d__Bacteria;p__Proteobacteria;c__Gammaproteoba...</td>\n",
       "      <td>d__Bacteria;p__Proteobacteria;c__Gammaproteoba...</td>\n",
       "      <td>0.999896</td>\n",
       "    </tr>\n",
       "    <tr>\n",
       "      <th>64064</th>\n",
       "      <td>d__Bacteria;p__Verrucomicrobiota;c__Verrucomic...</td>\n",
       "      <td>d__Bacteria;p__Firmicutes;c__Bacilli;o__Erysip...</td>\n",
       "      <td>0.995380</td>\n",
       "    </tr>\n",
       "  </tbody>\n",
       "</table>\n",
       "<p>106 rows × 3 columns</p>\n",
       "</div>"
      ],
      "text/plain": [
       "                                                    var1  \\\n",
       "525    d__Archaea;p__Euryarchaeota;c__Methanobacteria...   \n",
       "726    d__Archaea;p__Euryarchaeota;c__Methanobacteria...   \n",
       "727    d__Archaea;p__Euryarchaeota;c__Methanobacteria...   \n",
       "734    d__Archaea;p__Euryarchaeota;c__Methanobacteria...   \n",
       "778    d__Archaea;p__Thermoplasmatota;c__Thermoplasma...   \n",
       "...                                                  ...   \n",
       "61453  d__Bacteria;p__Proteobacteria;c__Gammaproteoba...   \n",
       "61474  d__Bacteria;p__Proteobacteria;c__Gammaproteoba...   \n",
       "61550  d__Bacteria;p__Proteobacteria;c__Gammaproteoba...   \n",
       "61700  d__Bacteria;p__Proteobacteria;c__Gammaproteoba...   \n",
       "64064  d__Bacteria;p__Verrucomicrobiota;c__Verrucomic...   \n",
       "\n",
       "                                                    var2     value  \n",
       "525    d__Bacteria;p__Actinobacteriota;c__Coriobacter...  0.922288  \n",
       "726    d__Bacteria;p__Firmicutes;c__Negativicutes;o__...  0.881695  \n",
       "727    d__Bacteria;p__Firmicutes;c__Negativicutes;o__...  0.999990  \n",
       "734    d__Bacteria;p__Fusobacteriota;c__Fusobacteriia...  0.933017  \n",
       "778    d__Bacteria;p__Actinobacteriota;c__Coriobacter...  0.928212  \n",
       "...                                                  ...       ...  \n",
       "61453  d__Bacteria;p__Proteobacteria;c__Gammaproteoba...  0.997758  \n",
       "61474  d__Bacteria;p__Actinobacteriota;c__Actinobacte...  0.848917  \n",
       "61550  d__Bacteria;p__Firmicutes;c__Bacilli;o__Staphy...  0.837976  \n",
       "61700  d__Bacteria;p__Proteobacteria;c__Gammaproteoba...  0.999896  \n",
       "64064  d__Bacteria;p__Firmicutes;c__Bacilli;o__Erysip...  0.995380  \n",
       "\n",
       "[106 rows x 3 columns]"
      ]
     },
     "execution_count": 221,
     "metadata": {},
     "output_type": "execute_result"
    }
   ],
   "source": [
    "links_filtered"
   ]
  },
  {
   "cell_type": "code",
   "execution_count": 222,
   "metadata": {},
   "outputs": [
    {
     "data": {
      "image/png": "[encoded data removed]",
      "text/plain": [
       "<Figure size 432x288 with 1 Axes>"
      ]
     },
     "metadata": {},
     "output_type": "display_data"
    }
   ],
   "source": [
    "G=nx.from_pandas_edgelist(links_filtered, 'var1', 'var2',)\n",
    "\n",
    "nx.draw(G, node_color='orange', node_size=80, edge_color='black', linewidths=2)\n",
    "\n",
    "plt.show()\n"
   ]
  },
  {
   "cell_type": "code",
   "execution_count": 302,
   "metadata": {},
   "outputs": [
    {
     "data": {
      "image/png": "[encoded data removed]",
      "text/plain": [
       "<Figure size 432x288 with 1 Axes>"
      ]
     },
     "metadata": {},
     "output_type": "display_data"
    }
   ],
   "source": [
    "partition = community_louvain.best_partition(G, random_state=42)\n",
    "\n",
    "pos = nx.spring_layout(G, k=0.2, seed=42)\n",
    "# color the nodes according to their partition\n",
    "cmap = cm.get_cmap('tab20')\n",
    "\n",
    "nx.draw_networkx_nodes(G, pos, nodelist=partition.keys(), \n",
    "                       node_size=50,\n",
    "                       cmap=cmap, \n",
    "                       node_color=list(partition.values()))\n",
    "nx.draw_networkx_edges(G, pos, alpha=0.5)\n",
    "\n",
    "#collapse the dict to get one in each module \n",
    "#then annotate the plot with their module number \n",
    "#there's probably a better way to do this but this works for now\n",
    "for v, k in {v:k for k,v in partition.items()}.items():\n",
    "    plt.annotate(s=v,\n",
    "                 xy=(pos[k][0], pos[k][1]+0.05))\n",
    "    \n",
    "ax = plt.gca()\n",
    "ylim = ax.get_ylim()\n",
    "ax.set_ylim(ylim[0], ylim[1]+0.1)\n",
    "\n",
    "plt.show()"
   ]
  },
  {
   "cell_type": "code",
   "execution_count": 224,
   "metadata": {},
   "outputs": [
    {
     "data": {
      "text/plain": [
       "array([ 0,  1,  2,  3,  4,  5,  6,  7,  8,  9, 10, 11, 12, 13, 14])"
      ]
     },
     "execution_count": 224,
     "metadata": {},
     "output_type": "execute_result"
    }
   ],
   "source": [
    "np.unique(list(partition.values()))"
   ]
  },
  {
   "cell_type": "code",
   "execution_count": 284,
   "metadata": {},
   "outputs": [
    {
     "data": {
      "text/plain": [
       "5.22171331112491e-05"
      ]
     },
     "execution_count": 284,
     "metadata": {},
     "output_type": "execute_result"
    }
   ],
   "source": [
    "np.mean([tax_p_df[k].mean() for k in partition.keys()])"
   ]
  },
  {
   "cell_type": "code",
   "execution_count": 227,
   "metadata": {},
   "outputs": [],
   "source": [
    "#make a list of each taxon in each module\n",
    "rev_part = {i: list(dict(filter(lambda x: x[1]==i, partition.items())).keys()) for i in range(15)}\n",
    "\n",
    "modules_df = pd.DataFrame.from_dict(rev_part, orient=\"index\").T"
   ]
  },
  {
   "cell_type": "code",
   "execution_count": 228,
   "metadata": {},
   "outputs": [],
   "source": [
    "modules_df.to_csv(\"Tables/tax_clr_pearson_modules.csv\")"
   ]
  },
  {
   "cell_type": "markdown",
   "metadata": {},
   "source": [
    "## Now add metabolites"
   ]
  },
  {
   "cell_type": "code",
   "execution_count": 206,
   "metadata": {},
   "outputs": [],
   "source": [
    "metabo = pd.read_csv(\"Data/IBS-ID-list.txt\", sep=\"\\t\", encoding='unicode_escape')\n",
    "\n",
    "#Clean up rows and columns\n",
    "metabo = metabo[metabo[\"Sample\"].isna()==False]\n",
    "metabo.loc[metabo[\"Subject ID.1\"].isna(), \"Subject ID.1\"] = metabo.loc[metabo[\"Subject ID.1\"].isna(), \"Sample\"]\n",
    "metabo.set_index(\"Subject ID.1\", inplace=True)\n",
    "metabo.drop([\"Sample\", \"Subject ID\",\"Unnamed: 3\"], axis=1, inplace=True)\n",
    "\n",
    "#Clean up column names\n",
    "metabo.columns = list(metabo.columns[:2]) + [\" \".join(col.split(\" \")[:-4]) for col in list(metabo.columns[2:])]\n",
    "\n",
    "#Impute NQ as LLOQ/2\n",
    "metabo.replace(to_replace=\"NQ\",\n",
    "               value=np.nan,\n",
    "               inplace=True)\n",
    "\n",
    "metabo.loc[\"LLOQ\", \"Sample Weight\"] = 0\n",
    "metabo.loc[\"LLOQ\",:] = metabo.loc[\"LLOQ\",:].astype(float)\n",
    "metabo.loc[\"half LLOQ\",:] = metabo.loc[\"LLOQ\"]/2\n",
    "metabo.iloc[2:-1,:] = metabo.iloc[2:-1,:].fillna(metabo.loc[\"half LLOQ\",:])\n",
    "\n",
    "#Drop ULOQ/LLOQ\n",
    "metabo.drop([\"half LLOQ\",\"LLOQ\",\"ULOQ\", \"Preservative\", \"BLOQ Values\", \"ALOQ Values\"], inplace=True)\n",
    "\n",
    "#We can drop these too - quantities are already microg/g sample weight\n",
    "metabo.drop([\"Sample Weight\", \"Date and Time\"], axis=1, inplace=True)"
   ]
  },
  {
   "cell_type": "code",
   "execution_count": 209,
   "metadata": {},
   "outputs": [
    {
     "name": "stdout",
     "output_type": "stream",
     "text": [
      "True\n"
     ]
    }
   ],
   "source": [
    "#indexes are the same\n",
    "print(len(set(metabo.index)&set(tax_df_clr.index))==len(tax_df_clr.index))\n",
    "\n",
    "#reindex according to tax\n",
    "metabo = metabo.reindex(tax_df_clr.index)"
   ]
  },
  {
   "cell_type": "code",
   "execution_count": 212,
   "metadata": {},
   "outputs": [],
   "source": [
    "tax_clr_metabo = pd.concat([tax_df_clr, metabo],\n",
    "                            axis=1)"
   ]
  },
  {
   "cell_type": "code",
   "execution_count": 213,
   "metadata": {},
   "outputs": [],
   "source": [
    "tax_metabo_pear = tax_clr_metabo.corr()\n",
    "\n",
    "links = tax_metabo_pear.stack().reset_index()\n",
    "links.columns = ['var1', 'var2', 'value']\n",
    "\n",
    "\n",
    "links_filtered=links.loc[ (links['value'] > 0.8) & (links['var1'] != links['var2']) ]\n",
    "\n",
    "for ind in links_filtered.index:\n",
    "    r, p = pearsonr(tax_clr_metabo[links_filtered.loc[ind,\"var1\"]],\n",
    "                    tax_clr_metabo[links_filtered.loc[ind,\"var2\"]])\n",
    "    if p > 0.05:\n",
    "        links_filtered.drop(ind, inplace=True)"
   ]
  },
  {
   "cell_type": "code",
   "execution_count": 214,
   "metadata": {},
   "outputs": [
    {
     "data": {
      "text/html": [
       "<div>\n",
       "<style scoped>\n",
       "    .dataframe tbody tr th:only-of-type {\n",
       "        vertical-align: middle;\n",
       "    }\n",
       "\n",
       "    .dataframe tbody tr th {\n",
       "        vertical-align: top;\n",
       "    }\n",
       "\n",
       "    .dataframe thead th {\n",
       "        text-align: right;\n",
       "    }\n",
       "</style>\n",
       "<table border=\"1\" class=\"dataframe\">\n",
       "  <thead>\n",
       "    <tr style=\"text-align: right;\">\n",
       "      <th></th>\n",
       "      <th>var1</th>\n",
       "      <th>var2</th>\n",
       "      <th>value</th>\n",
       "    </tr>\n",
       "  </thead>\n",
       "  <tbody>\n",
       "    <tr>\n",
       "      <th>535</th>\n",
       "      <td>d__Archaea;p__Euryarchaeota;c__Methanobacteria...</td>\n",
       "      <td>d__Bacteria;p__Actinobacteriota;c__Coriobacter...</td>\n",
       "      <td>0.922288</td>\n",
       "    </tr>\n",
       "    <tr>\n",
       "      <th>736</th>\n",
       "      <td>d__Archaea;p__Euryarchaeota;c__Methanobacteria...</td>\n",
       "      <td>d__Bacteria;p__Firmicutes;c__Negativicutes;o__...</td>\n",
       "      <td>0.881695</td>\n",
       "    </tr>\n",
       "    <tr>\n",
       "      <th>737</th>\n",
       "      <td>d__Archaea;p__Euryarchaeota;c__Methanobacteria...</td>\n",
       "      <td>d__Bacteria;p__Firmicutes;c__Negativicutes;o__...</td>\n",
       "      <td>0.999990</td>\n",
       "    </tr>\n",
       "    <tr>\n",
       "      <th>744</th>\n",
       "      <td>d__Archaea;p__Euryarchaeota;c__Methanobacteria...</td>\n",
       "      <td>d__Bacteria;p__Fusobacteriota;c__Fusobacteriia...</td>\n",
       "      <td>0.933017</td>\n",
       "    </tr>\n",
       "    <tr>\n",
       "      <th>793</th>\n",
       "      <td>d__Archaea;p__Thermoplasmatota;c__Thermoplasma...</td>\n",
       "      <td>d__Bacteria;p__Actinobacteriota;c__Coriobacter...</td>\n",
       "      <td>0.928212</td>\n",
       "    </tr>\n",
       "    <tr>\n",
       "      <th>...</th>\n",
       "      <td>...</td>\n",
       "      <td>...</td>\n",
       "      <td>...</td>\n",
       "    </tr>\n",
       "    <tr>\n",
       "      <th>62760</th>\n",
       "      <td>d__Bacteria;p__Proteobacteria;c__Gammaproteoba...</td>\n",
       "      <td>d__Bacteria;p__Firmicutes;c__Bacilli;o__Staphy...</td>\n",
       "      <td>0.837976</td>\n",
       "    </tr>\n",
       "    <tr>\n",
       "      <th>62910</th>\n",
       "      <td>d__Bacteria;p__Proteobacteria;c__Gammaproteoba...</td>\n",
       "      <td>d__Bacteria;p__Proteobacteria;c__Gammaproteoba...</td>\n",
       "      <td>0.999896</td>\n",
       "    </tr>\n",
       "    <tr>\n",
       "      <th>65324</th>\n",
       "      <td>d__Bacteria;p__Verrucomicrobiota;c__Verrucomic...</td>\n",
       "      <td>d__Bacteria;p__Firmicutes;c__Bacilli;o__Erysip...</td>\n",
       "      <td>0.995380</td>\n",
       "    </tr>\n",
       "    <tr>\n",
       "      <th>66561</th>\n",
       "      <td>palmitic acid (16:0)</td>\n",
       "      <td>stearic acid (18:0)</td>\n",
       "      <td>0.808975</td>\n",
       "    </tr>\n",
       "    <tr>\n",
       "      <th>66819</th>\n",
       "      <td>stearic acid (18:0)</td>\n",
       "      <td>palmitic acid (16:0)</td>\n",
       "      <td>0.808975</td>\n",
       "    </tr>\n",
       "  </tbody>\n",
       "</table>\n",
       "<p>108 rows × 3 columns</p>\n",
       "</div>"
      ],
      "text/plain": [
       "                                                    var1  \\\n",
       "535    d__Archaea;p__Euryarchaeota;c__Methanobacteria...   \n",
       "736    d__Archaea;p__Euryarchaeota;c__Methanobacteria...   \n",
       "737    d__Archaea;p__Euryarchaeota;c__Methanobacteria...   \n",
       "744    d__Archaea;p__Euryarchaeota;c__Methanobacteria...   \n",
       "793    d__Archaea;p__Thermoplasmatota;c__Thermoplasma...   \n",
       "...                                                  ...   \n",
       "62760  d__Bacteria;p__Proteobacteria;c__Gammaproteoba...   \n",
       "62910  d__Bacteria;p__Proteobacteria;c__Gammaproteoba...   \n",
       "65324  d__Bacteria;p__Verrucomicrobiota;c__Verrucomic...   \n",
       "66561                               palmitic acid (16:0)   \n",
       "66819                                stearic acid (18:0)   \n",
       "\n",
       "                                                    var2     value  \n",
       "535    d__Bacteria;p__Actinobacteriota;c__Coriobacter...  0.922288  \n",
       "736    d__Bacteria;p__Firmicutes;c__Negativicutes;o__...  0.881695  \n",
       "737    d__Bacteria;p__Firmicutes;c__Negativicutes;o__...  0.999990  \n",
       "744    d__Bacteria;p__Fusobacteriota;c__Fusobacteriia...  0.933017  \n",
       "793    d__Bacteria;p__Actinobacteriota;c__Coriobacter...  0.928212  \n",
       "...                                                  ...       ...  \n",
       "62760  d__Bacteria;p__Firmicutes;c__Bacilli;o__Staphy...  0.837976  \n",
       "62910  d__Bacteria;p__Proteobacteria;c__Gammaproteoba...  0.999896  \n",
       "65324  d__Bacteria;p__Firmicutes;c__Bacilli;o__Erysip...  0.995380  \n",
       "66561                                stearic acid (18:0)  0.808975  \n",
       "66819                               palmitic acid (16:0)  0.808975  \n",
       "\n",
       "[108 rows x 3 columns]"
      ]
     },
     "execution_count": 214,
     "metadata": {},
     "output_type": "execute_result"
    }
   ],
   "source": [
    "links_filtered"
   ]
  },
  {
   "cell_type": "markdown",
   "metadata": {},
   "source": [
    "**Looks like there isn't really anything new that came up when including lipids, except that palmitic and stearic correlate with each other**"
   ]
  },
  {
   "cell_type": "code",
   "execution_count": null,
   "metadata": {},
   "outputs": [],
   "source": []
  }
 ],
 "metadata": {
  "kernelspec": {
   "display_name": "Python 3",
   "language": "python",
   "name": "python3"
  },
  "language_info": {
   "codemirror_mode": {
    "name": "ipython",
    "version": 3
   },
   "file_extension": ".py",
   "mimetype": "text/x-python",
   "name": "python",
   "nbconvert_exporter": "python",
   "pygments_lexer": "ipython3",
   "version": "3.6.12"
  }
 },
 "nbformat": 4,
 "nbformat_minor": 4
}
