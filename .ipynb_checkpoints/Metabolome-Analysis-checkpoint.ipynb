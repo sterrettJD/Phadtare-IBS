{
 "cells": [
  {
   "cell_type": "code",
   "execution_count": 47,
   "metadata": {},
   "outputs": [],
   "source": [
    "import pandas as pd\n",
    "import numpy as np\n",
    "import matplotlib.pyplot as plt\n",
    "import seaborn as sns\n",
    "\n",
    "from scipy.stats import kruskal, mannwhitneyu, zscore\n",
    "\n",
    "%matplotlib inline"
   ]
  },
  {
   "cell_type": "markdown",
   "metadata": {},
   "source": [
    "## Data reading and cleaning"
   ]
  },
  {
   "cell_type": "code",
   "execution_count": 2,
   "metadata": {},
   "outputs": [],
   "source": [
    "df = pd.read_csv(\"Data/IBS-metabolome-data.txt\", sep=\"\\t\", index_col=\"Sample\")\n",
    "df.drop([np.NaN, 'BLOQ Values','ALOQ Values'], inplace=True)\n",
    "df.drop(['Unnamed: 33','Unnamed: 34', 'Unnamed: 35'],\n",
    "        axis=1,\n",
    "        inplace=True)"
   ]
  },
  {
   "cell_type": "code",
   "execution_count": 3,
   "metadata": {},
   "outputs": [],
   "source": [
    "df.columns = list(df.columns[:2]) + [\" \".join(col.split(\" \")[:-4]) for col in list(df.columns[2:])]"
   ]
  },
  {
   "cell_type": "code",
   "execution_count": 4,
   "metadata": {},
   "outputs": [],
   "source": [
    "df.replace(to_replace=\"NQ\",\n",
    "           value=np.nan,\n",
    "           inplace=True)"
   ]
  },
  {
   "cell_type": "code",
   "execution_count": 5,
   "metadata": {},
   "outputs": [],
   "source": [
    "df.loc[\"LLOQ\", \"Sample Weight\"] = 0\n",
    "df.loc[\"LLOQ\",:] = df.loc[\"LLOQ\",:].astype(float)\n",
    "df.loc[\"half LLOQ\",:] = df.loc[\"LLOQ\"]/2"
   ]
  },
  {
   "cell_type": "code",
   "execution_count": 6,
   "metadata": {},
   "outputs": [],
   "source": [
    "df.iloc[2:-1,:] = df.iloc[2:-1,:].fillna(df.loc[\"half LLOQ\",:])\n",
    "df.drop(\"half LLOQ\", inplace=True)"
   ]
  },
  {
   "cell_type": "code",
   "execution_count": 7,
   "metadata": {},
   "outputs": [],
   "source": [
    "df.index = [dex.replace(\"Ctl\",\"control \") for dex in df.index]\n",
    "df.index = [dex.replace(\"  \",\" \") for dex in df.index]"
   ]
  },
  {
   "cell_type": "code",
   "execution_count": 8,
   "metadata": {},
   "outputs": [],
   "source": [
    "df[\"IBS\"] = [np.nan] * 3 + [dex.split(\" \")[1]!=\"control\" for dex in df.index if len(dex.split(\" \"))>1]"
   ]
  },
  {
   "cell_type": "code",
   "execution_count": 9,
   "metadata": {},
   "outputs": [],
   "source": [
    "samples_df = df.iloc[3:,2:]\n",
    "samples_df.iloc[:,:-1] = samples_df.iloc[:,:-1].astype(float)"
   ]
  },
  {
   "cell_type": "code",
   "execution_count": 10,
   "metadata": {},
   "outputs": [
    {
     "data": {
      "text/html": [
       "<div>\n",
       "<style scoped>\n",
       "    .dataframe tbody tr th:only-of-type {\n",
       "        vertical-align: middle;\n",
       "    }\n",
       "\n",
       "    .dataframe tbody tr th {\n",
       "        vertical-align: top;\n",
       "    }\n",
       "\n",
       "    .dataframe thead th {\n",
       "        text-align: right;\n",
       "    }\n",
       "</style>\n",
       "<table border=\"1\" class=\"dataframe\">\n",
       "  <thead>\n",
       "    <tr style=\"text-align: right;\">\n",
       "      <th></th>\n",
       "      <th>myristic acid (14:0)</th>\n",
       "      <th>myristoleic acid (14:1n5)</th>\n",
       "      <th>pentadecanoic acid (15:0)</th>\n",
       "      <th>palmitic acid (16:0)</th>\n",
       "      <th>palmitoleic acid (16:1n7)</th>\n",
       "      <th>margaric acid (17:0)</th>\n",
       "      <th>stearic acid (18:0)</th>\n",
       "      <th>oleic acid (18:1n9)</th>\n",
       "      <th>vaccenic acid (18:1n7)</th>\n",
       "      <th>linoleic acid (18:2n6)</th>\n",
       "      <th>...</th>\n",
       "      <th>behenic acid (22:0)</th>\n",
       "      <th>erucic acid (22:1n9)</th>\n",
       "      <th>cis-13-16-docosadienoic acid (22:2n6)</th>\n",
       "      <th>adrenic acid (22:4n6)</th>\n",
       "      <th>osbond acid (22:5n6)</th>\n",
       "      <th>docosapentaenoic acid (22:5n3)</th>\n",
       "      <th>docosahexaenoic acid (22:6n3)</th>\n",
       "      <th>lignoceric acid (24:0)</th>\n",
       "      <th>nervonic acid (24:1n9)</th>\n",
       "      <th>IBS</th>\n",
       "    </tr>\n",
       "  </thead>\n",
       "  <tbody>\n",
       "    <tr>\n",
       "      <th>IBS control 1</th>\n",
       "      <td>10.40</td>\n",
       "      <td>0.480</td>\n",
       "      <td>10.90</td>\n",
       "      <td>204.0</td>\n",
       "      <td>3.04</td>\n",
       "      <td>4.61</td>\n",
       "      <td>284.0</td>\n",
       "      <td>138.0</td>\n",
       "      <td>8.84</td>\n",
       "      <td>94.2</td>\n",
       "      <td>...</td>\n",
       "      <td>12.80</td>\n",
       "      <td>0.395</td>\n",
       "      <td>0.206</td>\n",
       "      <td>0.48</td>\n",
       "      <td>5.34</td>\n",
       "      <td>0.800</td>\n",
       "      <td>1.6</td>\n",
       "      <td>12.50</td>\n",
       "      <td>1.590</td>\n",
       "      <td>False</td>\n",
       "    </tr>\n",
       "    <tr>\n",
       "      <th>IBS control 2</th>\n",
       "      <td>7.68</td>\n",
       "      <td>0.285</td>\n",
       "      <td>6.59</td>\n",
       "      <td>229.0</td>\n",
       "      <td>3.86</td>\n",
       "      <td>3.51</td>\n",
       "      <td>207.0</td>\n",
       "      <td>477.0</td>\n",
       "      <td>20.80</td>\n",
       "      <td>102.0</td>\n",
       "      <td>...</td>\n",
       "      <td>23.80</td>\n",
       "      <td>0.477</td>\n",
       "      <td>0.480</td>\n",
       "      <td>0.48</td>\n",
       "      <td>98.80</td>\n",
       "      <td>0.804</td>\n",
       "      <td>1.6</td>\n",
       "      <td>8.06</td>\n",
       "      <td>1.310</td>\n",
       "      <td>False</td>\n",
       "    </tr>\n",
       "    <tr>\n",
       "      <th>IBS control 3</th>\n",
       "      <td>8.98</td>\n",
       "      <td>0.480</td>\n",
       "      <td>7.81</td>\n",
       "      <td>579.0</td>\n",
       "      <td>5.88</td>\n",
       "      <td>6.23</td>\n",
       "      <td>383.0</td>\n",
       "      <td>1159.0</td>\n",
       "      <td>29.60</td>\n",
       "      <td>401.0</td>\n",
       "      <td>...</td>\n",
       "      <td>17.70</td>\n",
       "      <td>0.828</td>\n",
       "      <td>0.480</td>\n",
       "      <td>0.48</td>\n",
       "      <td>261.00</td>\n",
       "      <td>0.539</td>\n",
       "      <td>1.6</td>\n",
       "      <td>22.00</td>\n",
       "      <td>2.030</td>\n",
       "      <td>False</td>\n",
       "    </tr>\n",
       "    <tr>\n",
       "      <th>IBS control 4</th>\n",
       "      <td>1.15</td>\n",
       "      <td>0.480</td>\n",
       "      <td>0.49</td>\n",
       "      <td>36.0</td>\n",
       "      <td>2.43</td>\n",
       "      <td>1.45</td>\n",
       "      <td>36.0</td>\n",
       "      <td>63.2</td>\n",
       "      <td>2.70</td>\n",
       "      <td>48.6</td>\n",
       "      <td>...</td>\n",
       "      <td>1.42</td>\n",
       "      <td>0.183</td>\n",
       "      <td>0.480</td>\n",
       "      <td>0.48</td>\n",
       "      <td>0.48</td>\n",
       "      <td>0.800</td>\n",
       "      <td>1.6</td>\n",
       "      <td>1.48</td>\n",
       "      <td>0.246</td>\n",
       "      <td>False</td>\n",
       "    </tr>\n",
       "    <tr>\n",
       "      <th>IBS control 5</th>\n",
       "      <td>49.80</td>\n",
       "      <td>0.480</td>\n",
       "      <td>19.60</td>\n",
       "      <td>258.0</td>\n",
       "      <td>5.88</td>\n",
       "      <td>5.11</td>\n",
       "      <td>455.0</td>\n",
       "      <td>176.0</td>\n",
       "      <td>5.37</td>\n",
       "      <td>89.4</td>\n",
       "      <td>...</td>\n",
       "      <td>17.40</td>\n",
       "      <td>1.850</td>\n",
       "      <td>0.480</td>\n",
       "      <td>0.48</td>\n",
       "      <td>7.62</td>\n",
       "      <td>0.485</td>\n",
       "      <td>1.6</td>\n",
       "      <td>8.68</td>\n",
       "      <td>1.280</td>\n",
       "      <td>False</td>\n",
       "    </tr>\n",
       "  </tbody>\n",
       "</table>\n",
       "<p>5 rows × 31 columns</p>\n",
       "</div>"
      ],
      "text/plain": [
       "               myristic acid (14:0)  myristoleic acid (14:1n5)  \\\n",
       "IBS control 1                 10.40                      0.480   \n",
       "IBS control 2                  7.68                      0.285   \n",
       "IBS control 3                  8.98                      0.480   \n",
       "IBS control 4                  1.15                      0.480   \n",
       "IBS control 5                 49.80                      0.480   \n",
       "\n",
       "               pentadecanoic acid (15:0)  palmitic acid (16:0)  \\\n",
       "IBS control 1                      10.90                 204.0   \n",
       "IBS control 2                       6.59                 229.0   \n",
       "IBS control 3                       7.81                 579.0   \n",
       "IBS control 4                       0.49                  36.0   \n",
       "IBS control 5                      19.60                 258.0   \n",
       "\n",
       "               palmitoleic acid (16:1n7)  margaric acid (17:0)  \\\n",
       "IBS control 1                       3.04                  4.61   \n",
       "IBS control 2                       3.86                  3.51   \n",
       "IBS control 3                       5.88                  6.23   \n",
       "IBS control 4                       2.43                  1.45   \n",
       "IBS control 5                       5.88                  5.11   \n",
       "\n",
       "               stearic acid (18:0)  oleic acid (18:1n9)  \\\n",
       "IBS control 1                284.0                138.0   \n",
       "IBS control 2                207.0                477.0   \n",
       "IBS control 3                383.0               1159.0   \n",
       "IBS control 4                 36.0                 63.2   \n",
       "IBS control 5                455.0                176.0   \n",
       "\n",
       "               vaccenic acid (18:1n7)  linoleic acid (18:2n6)  ...  \\\n",
       "IBS control 1                    8.84                    94.2  ...   \n",
       "IBS control 2                   20.80                   102.0  ...   \n",
       "IBS control 3                   29.60                   401.0  ...   \n",
       "IBS control 4                    2.70                    48.6  ...   \n",
       "IBS control 5                    5.37                    89.4  ...   \n",
       "\n",
       "               behenic acid (22:0)  erucic acid (22:1n9)  \\\n",
       "IBS control 1                12.80                 0.395   \n",
       "IBS control 2                23.80                 0.477   \n",
       "IBS control 3                17.70                 0.828   \n",
       "IBS control 4                 1.42                 0.183   \n",
       "IBS control 5                17.40                 1.850   \n",
       "\n",
       "               cis-13-16-docosadienoic acid (22:2n6)  adrenic acid (22:4n6)  \\\n",
       "IBS control 1                                  0.206                   0.48   \n",
       "IBS control 2                                  0.480                   0.48   \n",
       "IBS control 3                                  0.480                   0.48   \n",
       "IBS control 4                                  0.480                   0.48   \n",
       "IBS control 5                                  0.480                   0.48   \n",
       "\n",
       "               osbond acid (22:5n6)  docosapentaenoic acid (22:5n3)  \\\n",
       "IBS control 1                  5.34                           0.800   \n",
       "IBS control 2                 98.80                           0.804   \n",
       "IBS control 3                261.00                           0.539   \n",
       "IBS control 4                  0.48                           0.800   \n",
       "IBS control 5                  7.62                           0.485   \n",
       "\n",
       "               docosahexaenoic acid (22:6n3)  lignoceric acid (24:0)  \\\n",
       "IBS control 1                            1.6                   12.50   \n",
       "IBS control 2                            1.6                    8.06   \n",
       "IBS control 3                            1.6                   22.00   \n",
       "IBS control 4                            1.6                    1.48   \n",
       "IBS control 5                            1.6                    8.68   \n",
       "\n",
       "               nervonic acid (24:1n9)    IBS  \n",
       "IBS control 1                   1.590  False  \n",
       "IBS control 2                   1.310  False  \n",
       "IBS control 3                   2.030  False  \n",
       "IBS control 4                   0.246  False  \n",
       "IBS control 5                   1.280  False  \n",
       "\n",
       "[5 rows x 31 columns]"
      ]
     },
     "execution_count": 10,
     "metadata": {},
     "output_type": "execute_result"
    }
   ],
   "source": [
    "samples_df.head()"
   ]
  },
  {
   "cell_type": "markdown",
   "metadata": {},
   "source": [
    "## Setup for volcano plot"
   ]
  },
  {
   "cell_type": "code",
   "execution_count": 11,
   "metadata": {},
   "outputs": [],
   "source": [
    "ibs = samples_df[samples_df[\"IBS\"]]\n",
    "controls = samples_df[samples_df[\"IBS\"]==False]\n",
    "\n",
    "for col in samples_df.columns[:-1]:\n",
    "    res = mannwhitneyu(ibs[col],\n",
    "                       controls[col])\n",
    "    samples_df.loc[\"pval\",col] = res.pvalue\n",
    "    samples_df.loc[\"-log10 pval\", col] = -1 * np.log10(res.pvalue)\n",
    "    \n",
    "    samples_df.loc[\"fold change\", col] = np.mean(ibs[col])/np.mean(controls[col])\n",
    "    samples_df.loc[\"log2 fold change\", col] = np.log2( np.mean(ibs[col]) / np.mean(controls[col]) )"
   ]
  },
  {
   "cell_type": "code",
   "execution_count": 12,
   "metadata": {},
   "outputs": [],
   "source": [
    "plot_df = samples_df.T"
   ]
  },
  {
   "cell_type": "code",
   "execution_count": 13,
   "metadata": {},
   "outputs": [
    {
     "data": {
      "text/html": [
       "<div>\n",
       "<style scoped>\n",
       "    .dataframe tbody tr th:only-of-type {\n",
       "        vertical-align: middle;\n",
       "    }\n",
       "\n",
       "    .dataframe tbody tr th {\n",
       "        vertical-align: top;\n",
       "    }\n",
       "\n",
       "    .dataframe thead th {\n",
       "        text-align: right;\n",
       "    }\n",
       "</style>\n",
       "<table border=\"1\" class=\"dataframe\">\n",
       "  <thead>\n",
       "    <tr style=\"text-align: right;\">\n",
       "      <th></th>\n",
       "      <th>IBS control 1</th>\n",
       "      <th>IBS control 2</th>\n",
       "      <th>IBS control 3</th>\n",
       "      <th>IBS control 4</th>\n",
       "      <th>IBS control 5</th>\n",
       "      <th>IBS control 6</th>\n",
       "      <th>IBS control 7</th>\n",
       "      <th>IBS control 8</th>\n",
       "      <th>IBS control 9</th>\n",
       "      <th>IBS control 10</th>\n",
       "      <th>...</th>\n",
       "      <th>IBS N17</th>\n",
       "      <th>IBS N18</th>\n",
       "      <th>IBS N19</th>\n",
       "      <th>IBS N20</th>\n",
       "      <th>IBS N21</th>\n",
       "      <th>IBS N22</th>\n",
       "      <th>pval</th>\n",
       "      <th>-log10 pval</th>\n",
       "      <th>fold change</th>\n",
       "      <th>log2 fold change</th>\n",
       "    </tr>\n",
       "  </thead>\n",
       "  <tbody>\n",
       "    <tr>\n",
       "      <th>myristic acid (14:0)</th>\n",
       "      <td>10.4</td>\n",
       "      <td>7.68</td>\n",
       "      <td>8.98</td>\n",
       "      <td>1.15</td>\n",
       "      <td>49.8</td>\n",
       "      <td>1.76</td>\n",
       "      <td>8.08</td>\n",
       "      <td>11.5</td>\n",
       "      <td>4.66</td>\n",
       "      <td>5.28</td>\n",
       "      <td>...</td>\n",
       "      <td>76.7</td>\n",
       "      <td>8.78</td>\n",
       "      <td>14.9</td>\n",
       "      <td>112</td>\n",
       "      <td>7.37</td>\n",
       "      <td>14.2</td>\n",
       "      <td>0.0848529</td>\n",
       "      <td>1.07133</td>\n",
       "      <td>1.58644</td>\n",
       "      <td>0.66579</td>\n",
       "    </tr>\n",
       "    <tr>\n",
       "      <th>myristoleic acid (14:1n5)</th>\n",
       "      <td>0.48</td>\n",
       "      <td>0.285</td>\n",
       "      <td>0.48</td>\n",
       "      <td>0.48</td>\n",
       "      <td>0.48</td>\n",
       "      <td>0.48</td>\n",
       "      <td>0.174</td>\n",
       "      <td>0.734</td>\n",
       "      <td>0.48</td>\n",
       "      <td>0.48</td>\n",
       "      <td>...</td>\n",
       "      <td>0.716</td>\n",
       "      <td>0.48</td>\n",
       "      <td>0.167</td>\n",
       "      <td>0.453</td>\n",
       "      <td>0.48</td>\n",
       "      <td>0.48</td>\n",
       "      <td>0.293652</td>\n",
       "      <td>0.532167</td>\n",
       "      <td>0.955867</td>\n",
       "      <td>-0.0651185</td>\n",
       "    </tr>\n",
       "    <tr>\n",
       "      <th>pentadecanoic acid (15:0)</th>\n",
       "      <td>10.9</td>\n",
       "      <td>6.59</td>\n",
       "      <td>7.81</td>\n",
       "      <td>0.49</td>\n",
       "      <td>19.6</td>\n",
       "      <td>0.911</td>\n",
       "      <td>13.9</td>\n",
       "      <td>3.56</td>\n",
       "      <td>3.47</td>\n",
       "      <td>13</td>\n",
       "      <td>...</td>\n",
       "      <td>72.7</td>\n",
       "      <td>4.34</td>\n",
       "      <td>24.4</td>\n",
       "      <td>4.61</td>\n",
       "      <td>4.41</td>\n",
       "      <td>14.3</td>\n",
       "      <td>0.0996756</td>\n",
       "      <td>1.00141</td>\n",
       "      <td>1.64382</td>\n",
       "      <td>0.717052</td>\n",
       "    </tr>\n",
       "    <tr>\n",
       "      <th>palmitic acid (16:0)</th>\n",
       "      <td>204</td>\n",
       "      <td>229</td>\n",
       "      <td>579</td>\n",
       "      <td>36</td>\n",
       "      <td>258</td>\n",
       "      <td>96.3</td>\n",
       "      <td>489</td>\n",
       "      <td>124</td>\n",
       "      <td>114</td>\n",
       "      <td>197</td>\n",
       "      <td>...</td>\n",
       "      <td>1377</td>\n",
       "      <td>181</td>\n",
       "      <td>474</td>\n",
       "      <td>432</td>\n",
       "      <td>392</td>\n",
       "      <td>775</td>\n",
       "      <td>0.0206515</td>\n",
       "      <td>1.68505</td>\n",
       "      <td>1.7853</td>\n",
       "      <td>0.836163</td>\n",
       "    </tr>\n",
       "    <tr>\n",
       "      <th>palmitoleic acid (16:1n7)</th>\n",
       "      <td>3.04</td>\n",
       "      <td>3.86</td>\n",
       "      <td>5.88</td>\n",
       "      <td>2.43</td>\n",
       "      <td>5.88</td>\n",
       "      <td>14.2</td>\n",
       "      <td>2.74</td>\n",
       "      <td>3.51</td>\n",
       "      <td>2.42</td>\n",
       "      <td>2.71</td>\n",
       "      <td>...</td>\n",
       "      <td>5.29</td>\n",
       "      <td>2.57</td>\n",
       "      <td>3.09</td>\n",
       "      <td>7.43</td>\n",
       "      <td>2.95</td>\n",
       "      <td>4.89</td>\n",
       "      <td>0.454023</td>\n",
       "      <td>0.342922</td>\n",
       "      <td>1.53783</td>\n",
       "      <td>0.6209</td>\n",
       "    </tr>\n",
       "  </tbody>\n",
       "</table>\n",
       "<p>5 rows × 49 columns</p>\n",
       "</div>"
      ],
      "text/plain": [
       "                          IBS control 1 IBS control 2 IBS control 3  \\\n",
       "myristic acid (14:0)               10.4          7.68          8.98   \n",
       "myristoleic acid (14:1n5)          0.48         0.285          0.48   \n",
       "pentadecanoic acid (15:0)          10.9          6.59          7.81   \n",
       "palmitic acid (16:0)                204           229           579   \n",
       "palmitoleic acid (16:1n7)          3.04          3.86          5.88   \n",
       "\n",
       "                          IBS control 4 IBS control 5 IBS control 6  \\\n",
       "myristic acid (14:0)               1.15          49.8          1.76   \n",
       "myristoleic acid (14:1n5)          0.48          0.48          0.48   \n",
       "pentadecanoic acid (15:0)          0.49          19.6         0.911   \n",
       "palmitic acid (16:0)                 36           258          96.3   \n",
       "palmitoleic acid (16:1n7)          2.43          5.88          14.2   \n",
       "\n",
       "                          IBS control 7 IBS control 8 IBS control 9  \\\n",
       "myristic acid (14:0)               8.08          11.5          4.66   \n",
       "myristoleic acid (14:1n5)         0.174         0.734          0.48   \n",
       "pentadecanoic acid (15:0)          13.9          3.56          3.47   \n",
       "palmitic acid (16:0)                489           124           114   \n",
       "palmitoleic acid (16:1n7)          2.74          3.51          2.42   \n",
       "\n",
       "                          IBS control 10  ... IBS N17 IBS N18 IBS N19 IBS N20  \\\n",
       "myristic acid (14:0)                5.28  ...    76.7    8.78    14.9     112   \n",
       "myristoleic acid (14:1n5)           0.48  ...   0.716    0.48   0.167   0.453   \n",
       "pentadecanoic acid (15:0)             13  ...    72.7    4.34    24.4    4.61   \n",
       "palmitic acid (16:0)                 197  ...    1377     181     474     432   \n",
       "palmitoleic acid (16:1n7)           2.71  ...    5.29    2.57    3.09    7.43   \n",
       "\n",
       "                          IBS N21 IBS N22       pval -log10 pval fold change  \\\n",
       "myristic acid (14:0)         7.37    14.2  0.0848529     1.07133     1.58644   \n",
       "myristoleic acid (14:1n5)    0.48    0.48   0.293652    0.532167    0.955867   \n",
       "pentadecanoic acid (15:0)    4.41    14.3  0.0996756     1.00141     1.64382   \n",
       "palmitic acid (16:0)          392     775  0.0206515     1.68505      1.7853   \n",
       "palmitoleic acid (16:1n7)    2.95    4.89   0.454023    0.342922     1.53783   \n",
       "\n",
       "                          log2 fold change  \n",
       "myristic acid (14:0)               0.66579  \n",
       "myristoleic acid (14:1n5)       -0.0651185  \n",
       "pentadecanoic acid (15:0)         0.717052  \n",
       "palmitic acid (16:0)              0.836163  \n",
       "palmitoleic acid (16:1n7)           0.6209  \n",
       "\n",
       "[5 rows x 49 columns]"
      ]
     },
     "execution_count": 13,
     "metadata": {},
     "output_type": "execute_result"
    }
   ],
   "source": [
    "plot_df.head()"
   ]
  },
  {
   "cell_type": "markdown",
   "metadata": {},
   "source": [
    "## Make Volcano Plot"
   ]
  },
  {
   "cell_type": "code",
   "execution_count": 14,
   "metadata": {},
   "outputs": [
    {
     "data": {
      "image/png": "[encoded data removed]",
      "text/plain": [
       "<Figure size 432x288 with 1 Axes>"
      ]
     },
     "metadata": {
      "needs_background": "light"
     },
     "output_type": "display_data"
    }
   ],
   "source": [
    "ax = sns.scatterplot(x=\"log2 fold change\",\n",
    "                     y=\"-log10 pval\",\n",
    "                     data=plot_df)\n",
    "\n",
    "for name in plot_df.index:\n",
    "    if plot_df.loc[name, \"-log10 pval\"] > -np.log10(0.05) or np.abs(plot_df.loc[name, \"log2 fold change\"]) > 1:\n",
    "        ax.text(plot_df.loc[name, \"log2 fold change\"], \n",
    "                plot_df.loc[name, \"-log10 pval\"], \n",
    "                name.split(\" \")[-1],\n",
    "                horizontalalignment='left', \n",
    "                verticalalignment='top',\n",
    "                size='medium',\n",
    "                rotation=0)\n",
    "        \n",
    "ax.axhline(-np.log10(0.05), ls=\"--\")\n",
    "ax.axvline(np.log2(2), ls=\"--\")\n",
    "ax.axvline(-np.log2(2), ls=\"--\")\n",
    "\n",
    "ax.set_xlim(-4,4)\n",
    "\n",
    "plt.show()"
   ]
  },
  {
   "cell_type": "code",
   "execution_count": 15,
   "metadata": {},
   "outputs": [
    {
     "data": {
      "text/html": [
       "<div>\n",
       "<style scoped>\n",
       "    .dataframe tbody tr th:only-of-type {\n",
       "        vertical-align: middle;\n",
       "    }\n",
       "\n",
       "    .dataframe tbody tr th {\n",
       "        vertical-align: top;\n",
       "    }\n",
       "\n",
       "    .dataframe thead th {\n",
       "        text-align: right;\n",
       "    }\n",
       "</style>\n",
       "<table border=\"1\" class=\"dataframe\">\n",
       "  <thead>\n",
       "    <tr style=\"text-align: right;\">\n",
       "      <th></th>\n",
       "      <th>pval</th>\n",
       "      <th>fold change</th>\n",
       "    </tr>\n",
       "  </thead>\n",
       "  <tbody>\n",
       "    <tr>\n",
       "      <th>palmitic acid (16:0)</th>\n",
       "      <td>0.0206515</td>\n",
       "      <td>1.7853</td>\n",
       "    </tr>\n",
       "    <tr>\n",
       "      <th>margaric acid (17:0)</th>\n",
       "      <td>0.0150487</td>\n",
       "      <td>1.85532</td>\n",
       "    </tr>\n",
       "    <tr>\n",
       "      <th>linoleic acid (18:2n6)</th>\n",
       "      <td>0.00494763</td>\n",
       "      <td>0.62784</td>\n",
       "    </tr>\n",
       "    <tr>\n",
       "      <th>gamma-linolenic acid (18:3n6)</th>\n",
       "      <td>0.00226264</td>\n",
       "      <td>0.0923045</td>\n",
       "    </tr>\n",
       "    <tr>\n",
       "      <th>alpha-linolenic acid (18:3n3)</th>\n",
       "      <td>0.0150433</td>\n",
       "      <td>0.870283</td>\n",
       "    </tr>\n",
       "    <tr>\n",
       "      <th>dihomo-gamma-linolenic acid (20:3n6)</th>\n",
       "      <td>0.0771399</td>\n",
       "      <td>3.06494</td>\n",
       "    </tr>\n",
       "  </tbody>\n",
       "</table>\n",
       "</div>"
      ],
      "text/plain": [
       "                                            pval fold change\n",
       "palmitic acid (16:0)                   0.0206515      1.7853\n",
       "margaric acid (17:0)                   0.0150487     1.85532\n",
       "linoleic acid (18:2n6)                0.00494763     0.62784\n",
       "gamma-linolenic acid (18:3n6)         0.00226264   0.0923045\n",
       "alpha-linolenic acid (18:3n3)          0.0150433    0.870283\n",
       "dihomo-gamma-linolenic acid (20:3n6)   0.0771399     3.06494"
      ]
     },
     "execution_count": 15,
     "metadata": {},
     "output_type": "execute_result"
    }
   ],
   "source": [
    "plot_df[(plot_df.loc[:,\"-log10 pval\"] > -np.log10(0.05)) | (np.abs(plot_df.loc[:,\"log2 fold change\"]) > 1)][[\"pval\",\"fold change\"]]"
   ]
  },
  {
   "cell_type": "markdown",
   "metadata": {},
   "source": [
    "## Boxplots"
   ]
  },
  {
   "cell_type": "code",
   "execution_count": 16,
   "metadata": {},
   "outputs": [],
   "source": [
    "altered = plot_df[(plot_df.loc[:,\"-log10 pval\"] > -np.log10(0.05)) | (np.abs(plot_df.loc[:,\"log2 fold change\"]) > 1)].index"
   ]
  },
  {
   "cell_type": "code",
   "execution_count": 17,
   "metadata": {},
   "outputs": [],
   "source": [
    "boxplot_df = samples_df[list(altered) + [\"IBS\"]].drop([\"pval\", \"-log10 pval\",\"fold change\", \"log2 fold change\"])\n",
    "boxplot_df = pd.melt(boxplot_df, id_vars=\"IBS\")\n",
    "boxplot_df[\"Lipid\"] = boxplot_df[\"variable\"].apply(lambda x: x.split(\" \")[-1].strip(\"()\"))\n",
    "\n",
    "ibsmapper = {True:\"IBS\", False:\"Healthy Control\"}\n",
    "boxplot_df[\"IBS\"] = boxplot_df[\"IBS\"].apply(lambda x: ibsmapper[x])"
   ]
  },
  {
   "cell_type": "code",
   "execution_count": 18,
   "metadata": {},
   "outputs": [
    {
     "data": {
      "image/png": "[encoded data removed]",
      "text/plain": [
       "<Figure size 864x288 with 6 Axes>"
      ]
     },
     "metadata": {
      "needs_background": "light"
     },
     "output_type": "display_data"
    }
   ],
   "source": [
    "ax = sns.catplot(x=\"IBS\",\n",
    "                y=\"value\",\n",
    "                col=\"Lipid\",\n",
    "                data=boxplot_df,\n",
    "                sharey=False,\n",
    "                kind=\"box\")\n",
    "ax.axes[0][0].set_ylabel(r\"$\\mu$g per g fecal sample dry mass\")\n",
    "\n",
    "for a in ax.axes[0][:5]:\n",
    "    a.set_title(a.get_title().split(\" = \")[-1],  fontsize=\"medium\")\n",
    "    \n",
    "ax.axes[0][5].set_title(\"20:3n6 \\n(not significant)\", fontsize=\"medium\")\n",
    "plt.gcf().set_size_inches(12,4)\n",
    "plt.tight_layout()"
   ]
  },
  {
   "cell_type": "markdown",
   "metadata": {},
   "source": [
    "# Subtypes"
   ]
  },
  {
   "cell_type": "code",
   "execution_count": 19,
   "metadata": {},
   "outputs": [],
   "source": [
    "metadata = pd.read_csv(\"Data/Final-IBS-Coding.txt\", sep=\"\\t\", index_col=\"metabolome-ID\")"
   ]
  },
  {
   "cell_type": "code",
   "execution_count": 20,
   "metadata": {},
   "outputs": [],
   "source": [
    "mapper = {\"mixed\":\"IBS-M\",\"diarrhea\":\"IBS-D\",}\n",
    "samples_df[\"IBS Type\"] = metadata[\"IBS Type\"].apply(lambda x: mapper[x] if x in mapper.keys() else x)"
   ]
  },
  {
   "cell_type": "code",
   "execution_count": 21,
   "metadata": {},
   "outputs": [],
   "source": [
    "subtypes_df = samples_df.drop(['pval', '-log10 pval', 'fold change', 'log2 fold change'])"
   ]
  },
  {
   "cell_type": "markdown",
   "metadata": {},
   "source": [
    "## Set up for radar plots"
   ]
  },
  {
   "cell_type": "code",
   "execution_count": 22,
   "metadata": {},
   "outputs": [],
   "source": [
    "ibsm = subtypes_df[subtypes_df[\"IBS Type\"]==\"IBS-M\"]\n",
    "ibsc = subtypes_df[subtypes_df[\"IBS Type\"]==\"IBS-C\"]\n",
    "ibsd = subtypes_df[subtypes_df[\"IBS Type\"]==\"IBS-D\"]\n",
    "controls = subtypes_df[subtypes_df[\"IBS\"]==False]\n",
    "\n",
    "for col in subtypes_df.columns[:-1]:\n",
    "    res = kruskal(ibsm[col], ibsc[col], ibsd[col], controls[col])\n",
    "    \n",
    "    subtypes_df.loc[\"pval\",col] = res.pvalue\n",
    "    subtypes_df.loc[\"-log10 pval\", col] = -1 * np.log10(res.pvalue)\n",
    "    \n",
    "    #samples_df.loc[\"fold change\", col] = np.mean(ibs[col])/np.mean(controls[col])\n",
    "    #samples_df.loc[\"log2 fold change\", col] = np.log2( np.mean(ibs[col]) / np.mean(controls[col]) )"
   ]
  },
  {
   "cell_type": "code",
   "execution_count": 54,
   "metadata": {},
   "outputs": [
    {
     "name": "stderr",
     "output_type": "stream",
     "text": [
      "/opt/anaconda3/envs/qiime2-2020.11/lib/python3.6/site-packages/pandas/core/indexing.py:1715: SettingWithCopyWarning:\n",
      "\n",
      "\n",
      "A value is trying to be set on a copy of a slice from a DataFrame.\n",
      "Try using .loc[row_indexer,col_indexer] = value instead\n",
      "\n",
      "See the caveats in the documentation: https://pandas.pydata.org/pandas-docs/stable/user_guide/indexing.html#returning-a-view-versus-a-copy\n",
      "\n"
     ]
    }
   ],
   "source": [
    "subtypes_sig_df = subtypes_df.loc[:,subtypes_df.loc[\"pval\",:]<=0.05]\n",
    "subtypes_sig_df.loc[:,\"IBS Type\"] = subtypes_df[\"IBS Type\"]\n",
    "\n",
    "subtypes_sig_df.loc[:,['palmitic acid (16:0)', \n",
    "                       'margaric acid (17:0)',\n",
    "                       'linoleic acid (18:2n6)', \n",
    "                       'gamma-linolenic acid (18:3n6)',\n",
    "                       'alpha-linolenic acid (18:3n3)']] = subtypes_sig_df.loc[:,['palmitic acid (16:0)', \n",
    "                                                                                  'margaric acid (17:0)',\n",
    "                                                                                  'linoleic acid (18:2n6)', \n",
    "                                                                                  'gamma-linolenic acid (18:3n6)',\n",
    "                                                                                  'alpha-linolenic acid (18:3n3)']].apply(zscore)"
   ]
  },
  {
   "cell_type": "code",
   "execution_count": 56,
   "metadata": {},
   "outputs": [],
   "source": [
    "sub_sig_mean_df = subtypes_sig_df.groupby(\"IBS Type\").mean()"
   ]
  },
  {
   "cell_type": "code",
   "execution_count": 57,
   "metadata": {},
   "outputs": [
    {
     "data": {
      "text/html": [
       "<div>\n",
       "<style scoped>\n",
       "    .dataframe tbody tr th:only-of-type {\n",
       "        vertical-align: middle;\n",
       "    }\n",
       "\n",
       "    .dataframe tbody tr th {\n",
       "        vertical-align: top;\n",
       "    }\n",
       "\n",
       "    .dataframe thead th {\n",
       "        text-align: right;\n",
       "    }\n",
       "</style>\n",
       "<table border=\"1\" class=\"dataframe\">\n",
       "  <thead>\n",
       "    <tr style=\"text-align: right;\">\n",
       "      <th></th>\n",
       "      <th>index</th>\n",
       "      <th>IBS Type</th>\n",
       "      <th>value</th>\n",
       "    </tr>\n",
       "  </thead>\n",
       "  <tbody>\n",
       "    <tr>\n",
       "      <th>0</th>\n",
       "      <td>palmitic acid (16:0)</td>\n",
       "      <td>IBS-C</td>\n",
       "      <td>0.717403</td>\n",
       "    </tr>\n",
       "    <tr>\n",
       "      <th>1</th>\n",
       "      <td>margaric acid (17:0)</td>\n",
       "      <td>IBS-C</td>\n",
       "      <td>0.383194</td>\n",
       "    </tr>\n",
       "    <tr>\n",
       "      <th>2</th>\n",
       "      <td>linoleic acid (18:2n6)</td>\n",
       "      <td>IBS-C</td>\n",
       "      <td>0.244575</td>\n",
       "    </tr>\n",
       "    <tr>\n",
       "      <th>3</th>\n",
       "      <td>gamma-linolenic acid (18:3n6)</td>\n",
       "      <td>IBS-C</td>\n",
       "      <td>-0.276422</td>\n",
       "    </tr>\n",
       "    <tr>\n",
       "      <th>4</th>\n",
       "      <td>alpha-linolenic acid (18:3n3)</td>\n",
       "      <td>IBS-C</td>\n",
       "      <td>0.421753</td>\n",
       "    </tr>\n",
       "    <tr>\n",
       "      <th>5</th>\n",
       "      <td>palmitic acid (16:0)</td>\n",
       "      <td>IBS-D</td>\n",
       "      <td>-0.136000</td>\n",
       "    </tr>\n",
       "    <tr>\n",
       "      <th>6</th>\n",
       "      <td>margaric acid (17:0)</td>\n",
       "      <td>IBS-D</td>\n",
       "      <td>-0.139033</td>\n",
       "    </tr>\n",
       "    <tr>\n",
       "      <th>7</th>\n",
       "      <td>linoleic acid (18:2n6)</td>\n",
       "      <td>IBS-D</td>\n",
       "      <td>-0.439110</td>\n",
       "    </tr>\n",
       "    <tr>\n",
       "      <th>8</th>\n",
       "      <td>gamma-linolenic acid (18:3n6)</td>\n",
       "      <td>IBS-D</td>\n",
       "      <td>-0.223782</td>\n",
       "    </tr>\n",
       "    <tr>\n",
       "      <th>9</th>\n",
       "      <td>alpha-linolenic acid (18:3n3)</td>\n",
       "      <td>IBS-D</td>\n",
       "      <td>-0.298969</td>\n",
       "    </tr>\n",
       "    <tr>\n",
       "      <th>10</th>\n",
       "      <td>palmitic acid (16:0)</td>\n",
       "      <td>IBS-M</td>\n",
       "      <td>0.167973</td>\n",
       "    </tr>\n",
       "    <tr>\n",
       "      <th>11</th>\n",
       "      <td>margaric acid (17:0)</td>\n",
       "      <td>IBS-M</td>\n",
       "      <td>0.386277</td>\n",
       "    </tr>\n",
       "    <tr>\n",
       "      <th>12</th>\n",
       "      <td>linoleic acid (18:2n6)</td>\n",
       "      <td>IBS-M</td>\n",
       "      <td>-0.038800</td>\n",
       "    </tr>\n",
       "    <tr>\n",
       "      <th>13</th>\n",
       "      <td>gamma-linolenic acid (18:3n6)</td>\n",
       "      <td>IBS-M</td>\n",
       "      <td>-0.265927</td>\n",
       "    </tr>\n",
       "    <tr>\n",
       "      <th>14</th>\n",
       "      <td>alpha-linolenic acid (18:3n3)</td>\n",
       "      <td>IBS-M</td>\n",
       "      <td>-0.095850</td>\n",
       "    </tr>\n",
       "    <tr>\n",
       "      <th>15</th>\n",
       "      <td>palmitic acid (16:0)</td>\n",
       "      <td>control</td>\n",
       "      <td>-0.446261</td>\n",
       "    </tr>\n",
       "    <tr>\n",
       "      <th>16</th>\n",
       "      <td>margaric acid (17:0)</td>\n",
       "      <td>control</td>\n",
       "      <td>-0.435527</td>\n",
       "    </tr>\n",
       "    <tr>\n",
       "      <th>17</th>\n",
       "      <td>linoleic acid (18:2n6)</td>\n",
       "      <td>control</td>\n",
       "      <td>0.328454</td>\n",
       "    </tr>\n",
       "    <tr>\n",
       "      <th>18</th>\n",
       "      <td>gamma-linolenic acid (18:3n6)</td>\n",
       "      <td>control</td>\n",
       "      <td>0.752187</td>\n",
       "    </tr>\n",
       "    <tr>\n",
       "      <th>19</th>\n",
       "      <td>alpha-linolenic acid (18:3n3)</td>\n",
       "      <td>control</td>\n",
       "      <td>0.087813</td>\n",
       "    </tr>\n",
       "  </tbody>\n",
       "</table>\n",
       "</div>"
      ],
      "text/plain": [
       "                            index IBS Type     value\n",
       "0            palmitic acid (16:0)    IBS-C  0.717403\n",
       "1            margaric acid (17:0)    IBS-C  0.383194\n",
       "2          linoleic acid (18:2n6)    IBS-C  0.244575\n",
       "3   gamma-linolenic acid (18:3n6)    IBS-C -0.276422\n",
       "4   alpha-linolenic acid (18:3n3)    IBS-C  0.421753\n",
       "5            palmitic acid (16:0)    IBS-D -0.136000\n",
       "6            margaric acid (17:0)    IBS-D -0.139033\n",
       "7          linoleic acid (18:2n6)    IBS-D -0.439110\n",
       "8   gamma-linolenic acid (18:3n6)    IBS-D -0.223782\n",
       "9   alpha-linolenic acid (18:3n3)    IBS-D -0.298969\n",
       "10           palmitic acid (16:0)    IBS-M  0.167973\n",
       "11           margaric acid (17:0)    IBS-M  0.386277\n",
       "12         linoleic acid (18:2n6)    IBS-M -0.038800\n",
       "13  gamma-linolenic acid (18:3n6)    IBS-M -0.265927\n",
       "14  alpha-linolenic acid (18:3n3)    IBS-M -0.095850\n",
       "15           palmitic acid (16:0)  control -0.446261\n",
       "16           margaric acid (17:0)  control -0.435527\n",
       "17         linoleic acid (18:2n6)  control  0.328454\n",
       "18  gamma-linolenic acid (18:3n6)  control  0.752187\n",
       "19  alpha-linolenic acid (18:3n3)  control  0.087813"
      ]
     },
     "execution_count": 57,
     "metadata": {},
     "output_type": "execute_result"
    }
   ],
   "source": [
    "pd.melt(sub_sig_mean_df.T.reset_index(), id_vars=\"index\")"
   ]
  },
  {
   "cell_type": "markdown",
   "metadata": {},
   "source": [
    "## Radar plot"
   ]
  },
  {
   "cell_type": "code",
   "execution_count": 26,
   "metadata": {
    "scrolled": false
   },
   "outputs": [
    {
     "name": "stdout",
     "output_type": "stream",
     "text": [
      "Collecting plotly\n",
      "  Downloading plotly-5.1.0-py2.py3-none-any.whl (20.6 MB)\n",
      "\u001b[K     |████████████████████████████████| 20.6 MB 254 kB/s eta 0:00:01    |███████████▏                    | 7.2 MB 4.8 MB/s eta 0:00:03     |█████████████████████▏          | 13.6 MB 4.8 MB/s eta 0:00:02\n",
      "\u001b[?25hRequirement already satisfied: six in /opt/anaconda3/envs/qiime2-2020.11/lib/python3.6/site-packages (from plotly) (1.15.0)\n",
      "Collecting tenacity>=6.2.0\n",
      "  Downloading tenacity-8.0.1-py3-none-any.whl (24 kB)\n",
      "Installing collected packages: tenacity, plotly\n",
      "Successfully installed plotly-5.1.0 tenacity-8.0.1\n"
     ]
    }
   ],
   "source": [
    "!pip install plotly"
   ]
  },
  {
   "cell_type": "code",
   "execution_count": 77,
   "metadata": {},
   "outputs": [
    {
     "data": {
      "application/vnd.plotly.v1+json": {
       "config": {
        "plotlyServerURL": "https://plot.ly"
       },
       "data": [
        {
         "fill": "toself",
         "hovertemplate": "IBS Type=IBS-C<br>value=%{r}<br>index=%{theta}<extra></extra>",
         "legendgroup": "IBS-C",
         "line": {
          "color": "blue",
          "dash": "solid"
         },
         "mode": "lines",
         "name": "IBS-C",
         "r": [
          0.717403117402267,
          0.38319390582877116,
          0.24457544629014277,
          -0.27642174756168214,
          0.42175316394742357,
          0.717403117402267
         ],
         "showlegend": true,
         "subplot": "polar",
         "theta": [
          "palmitic acid (16:0)",
          "margaric acid (17:0)",
          "linoleic acid (18:2n6)",
          "gamma-linolenic acid (18:3n6)",
          "alpha-linolenic acid (18:3n3)",
          "palmitic acid (16:0)"
         ],
         "type": "scatterpolar"
        },
        {
         "fill": "toself",
         "hovertemplate": "IBS Type=IBS-D<br>value=%{r}<br>index=%{theta}<extra></extra>",
         "legendgroup": "IBS-D",
         "line": {
          "color": "red",
          "dash": "solid"
         },
         "mode": "lines",
         "name": "IBS-D",
         "r": [
          -0.13600043408169424,
          -0.13903257082223872,
          -0.43910964725683777,
          -0.22378224131837557,
          -0.2989692347998195,
          -0.13600043408169424
         ],
         "showlegend": true,
         "subplot": "polar",
         "theta": [
          "palmitic acid (16:0)",
          "margaric acid (17:0)",
          "linoleic acid (18:2n6)",
          "gamma-linolenic acid (18:3n6)",
          "alpha-linolenic acid (18:3n3)",
          "palmitic acid (16:0)"
         ],
         "type": "scatterpolar"
        },
        {
         "fill": "toself",
         "hovertemplate": "IBS Type=IBS-M<br>value=%{r}<br>index=%{theta}<extra></extra>",
         "legendgroup": "IBS-M",
         "line": {
          "color": "purple",
          "dash": "solid"
         },
         "mode": "lines",
         "name": "IBS-M",
         "r": [
          0.16797273321967118,
          0.38627713106062345,
          -0.03879993956300298,
          -0.2659267411093639,
          -0.09584996733515842,
          0.16797273321967118
         ],
         "showlegend": true,
         "subplot": "polar",
         "theta": [
          "palmitic acid (16:0)",
          "margaric acid (17:0)",
          "linoleic acid (18:2n6)",
          "gamma-linolenic acid (18:3n6)",
          "alpha-linolenic acid (18:3n3)",
          "palmitic acid (16:0)"
         ],
         "type": "scatterpolar"
        },
        {
         "fill": "toself",
         "hovertemplate": "IBS Type=control<br>value=%{r}<br>index=%{theta}<extra></extra>",
         "legendgroup": "control",
         "line": {
          "color": "green",
          "dash": "solid"
         },
         "mode": "lines",
         "name": "control",
         "r": [
          -0.44626098143044507,
          -0.43552709616928204,
          0.3284544261541205,
          0.7521867859450965,
          0.08781338251700092,
          -0.44626098143044507
         ],
         "showlegend": true,
         "subplot": "polar",
         "theta": [
          "palmitic acid (16:0)",
          "margaric acid (17:0)",
          "linoleic acid (18:2n6)",
          "gamma-linolenic acid (18:3n6)",
          "alpha-linolenic acid (18:3n3)",
          "palmitic acid (16:0)"
         ],
         "type": "scatterpolar"
        }
       ],
       "layout": {
        "legend": {
         "title": {
          "text": "IBS Type"
         },
         "tracegroupgap": 0
        },
        "polar": {
         "angularaxis": {
          "direction": "clockwise",
          "rotation": 90
         },
         "domain": {
          "x": [
           0,
           1
          ],
          "y": [
           0,
           1
          ]
         },
         "radialaxis": {
          "range": [
           -1,
           1
          ],
          "visible": true
         }
        },
        "template": {
         "data": {
          "bar": [
           {
            "error_x": {
             "color": "#2a3f5f"
            },
            "error_y": {
             "color": "#2a3f5f"
            },
            "marker": {
             "line": {
              "color": "#E5ECF6",
              "width": 0.5
             },
             "pattern": {
              "fillmode": "overlay",
              "size": 10,
              "solidity": 0.2
             }
            },
            "type": "bar"
           }
          ],
          "barpolar": [
           {
            "marker": {
             "line": {
              "color": "#E5ECF6",
              "width": 0.5
             },
             "pattern": {
              "fillmode": "overlay",
              "size": 10,
              "solidity": 0.2
             }
            },
            "type": "barpolar"
           }
          ],
          "carpet": [
           {
            "aaxis": {
             "endlinecolor": "#2a3f5f",
             "gridcolor": "white",
             "linecolor": "white",
             "minorgridcolor": "white",
             "startlinecolor": "#2a3f5f"
            },
            "baxis": {
             "endlinecolor": "#2a3f5f",
             "gridcolor": "white",
             "linecolor": "white",
             "minorgridcolor": "white",
             "startlinecolor": "#2a3f5f"
            },
            "type": "carpet"
           }
          ],
          "choropleth": [
           {
            "colorbar": {
             "outlinewidth": 0,
             "ticks": ""
            },
            "type": "choropleth"
           }
          ],
          "contour": [
           {
            "colorbar": {
             "outlinewidth": 0,
             "ticks": ""
            },
            "colorscale": [
             [
              0,
              "#0d0887"
             ],
             [
              0.1111111111111111,
              "#46039f"
             ],
             [
              0.2222222222222222,
              "#7201a8"
             ],
             [
              0.3333333333333333,
              "#9c179e"
             ],
             [
              0.4444444444444444,
              "#bd3786"
             ],
             [
              0.5555555555555556,
              "#d8576b"
             ],
             [
              0.6666666666666666,
              "#ed7953"
             ],
             [
              0.7777777777777778,
              "#fb9f3a"
             ],
             [
              0.8888888888888888,
              "#fdca26"
             ],
             [
              1,
              "#f0f921"
             ]
            ],
            "type": "contour"
           }
          ],
          "contourcarpet": [
           {
            "colorbar": {
             "outlinewidth": 0,
             "ticks": ""
            },
            "type": "contourcarpet"
           }
          ],
          "heatmap": [
           {
            "colorbar": {
             "outlinewidth": 0,
             "ticks": ""
            },
            "colorscale": [
             [
              0,
              "#0d0887"
             ],
             [
              0.1111111111111111,
              "#46039f"
             ],
             [
              0.2222222222222222,
              "#7201a8"
             ],
             [
              0.3333333333333333,
              "#9c179e"
             ],
             [
              0.4444444444444444,
              "#bd3786"
             ],
             [
              0.5555555555555556,
              "#d8576b"
             ],
             [
              0.6666666666666666,
              "#ed7953"
             ],
             [
              0.7777777777777778,
              "#fb9f3a"
             ],
             [
              0.8888888888888888,
              "#fdca26"
             ],
             [
              1,
              "#f0f921"
             ]
            ],
            "type": "heatmap"
           }
          ],
          "heatmapgl": [
           {
            "colorbar": {
             "outlinewidth": 0,
             "ticks": ""
            },
            "colorscale": [
             [
              0,
              "#0d0887"
             ],
             [
              0.1111111111111111,
              "#46039f"
             ],
             [
              0.2222222222222222,
              "#7201a8"
             ],
             [
              0.3333333333333333,
              "#9c179e"
             ],
             [
              0.4444444444444444,
              "#bd3786"
             ],
             [
              0.5555555555555556,
              "#d8576b"
             ],
             [
              0.6666666666666666,
              "#ed7953"
             ],
             [
              0.7777777777777778,
              "#fb9f3a"
             ],
             [
              0.8888888888888888,
              "#fdca26"
             ],
             [
              1,
              "#f0f921"
             ]
            ],
            "type": "heatmapgl"
           }
          ],
          "histogram": [
           {
            "marker": {
             "pattern": {
              "fillmode": "overlay",
              "size": 10,
              "solidity": 0.2
             }
            },
            "type": "histogram"
           }
          ],
          "histogram2d": [
           {
            "colorbar": {
             "outlinewidth": 0,
             "ticks": ""
            },
            "colorscale": [
             [
              0,
              "#0d0887"
             ],
             [
              0.1111111111111111,
              "#46039f"
             ],
             [
              0.2222222222222222,
              "#7201a8"
             ],
             [
              0.3333333333333333,
              "#9c179e"
             ],
             [
              0.4444444444444444,
              "#bd3786"
             ],
             [
              0.5555555555555556,
              "#d8576b"
             ],
             [
              0.6666666666666666,
              "#ed7953"
             ],
             [
              0.7777777777777778,
              "#fb9f3a"
             ],
             [
              0.8888888888888888,
              "#fdca26"
             ],
             [
              1,
              "#f0f921"
             ]
            ],
            "type": "histogram2d"
           }
          ],
          "histogram2dcontour": [
           {
            "colorbar": {
             "outlinewidth": 0,
             "ticks": ""
            },
            "colorscale": [
             [
              0,
              "#0d0887"
             ],
             [
              0.1111111111111111,
              "#46039f"
             ],
             [
              0.2222222222222222,
              "#7201a8"
             ],
             [
              0.3333333333333333,
              "#9c179e"
             ],
             [
              0.4444444444444444,
              "#bd3786"
             ],
             [
              0.5555555555555556,
              "#d8576b"
             ],
             [
              0.6666666666666666,
              "#ed7953"
             ],
             [
              0.7777777777777778,
              "#fb9f3a"
             ],
             [
              0.8888888888888888,
              "#fdca26"
             ],
             [
              1,
              "#f0f921"
             ]
            ],
            "type": "histogram2dcontour"
           }
          ],
          "mesh3d": [
           {
            "colorbar": {
             "outlinewidth": 0,
             "ticks": ""
            },
            "type": "mesh3d"
           }
          ],
          "parcoords": [
           {
            "line": {
             "colorbar": {
              "outlinewidth": 0,
              "ticks": ""
             }
            },
            "type": "parcoords"
           }
          ],
          "pie": [
           {
            "automargin": true,
            "type": "pie"
           }
          ],
          "scatter": [
           {
            "marker": {
             "colorbar": {
              "outlinewidth": 0,
              "ticks": ""
             }
            },
            "type": "scatter"
           }
          ],
          "scatter3d": [
           {
            "line": {
             "colorbar": {
              "outlinewidth": 0,
              "ticks": ""
             }
            },
            "marker": {
             "colorbar": {
              "outlinewidth": 0,
              "ticks": ""
             }
            },
            "type": "scatter3d"
           }
          ],
          "scattercarpet": [
           {
            "marker": {
             "colorbar": {
              "outlinewidth": 0,
              "ticks": ""
             }
            },
            "type": "scattercarpet"
           }
          ],
          "scattergeo": [
           {
            "marker": {
             "colorbar": {
              "outlinewidth": 0,
              "ticks": ""
             }
            },
            "type": "scattergeo"
           }
          ],
          "scattergl": [
           {
            "marker": {
             "colorbar": {
              "outlinewidth": 0,
              "ticks": ""
             }
            },
            "type": "scattergl"
           }
          ],
          "scattermapbox": [
           {
            "marker": {
             "colorbar": {
              "outlinewidth": 0,
              "ticks": ""
             }
            },
            "type": "scattermapbox"
           }
          ],
          "scatterpolar": [
           {
            "marker": {
             "colorbar": {
              "outlinewidth": 0,
              "ticks": ""
             }
            },
            "type": "scatterpolar"
           }
          ],
          "scatterpolargl": [
           {
            "marker": {
             "colorbar": {
              "outlinewidth": 0,
              "ticks": ""
             }
            },
            "type": "scatterpolargl"
           }
          ],
          "scatterternary": [
           {
            "marker": {
             "colorbar": {
              "outlinewidth": 0,
              "ticks": ""
             }
            },
            "type": "scatterternary"
           }
          ],
          "surface": [
           {
            "colorbar": {
             "outlinewidth": 0,
             "ticks": ""
            },
            "colorscale": [
             [
              0,
              "#0d0887"
             ],
             [
              0.1111111111111111,
              "#46039f"
             ],
             [
              0.2222222222222222,
              "#7201a8"
             ],
             [
              0.3333333333333333,
              "#9c179e"
             ],
             [
              0.4444444444444444,
              "#bd3786"
             ],
             [
              0.5555555555555556,
              "#d8576b"
             ],
             [
              0.6666666666666666,
              "#ed7953"
             ],
             [
              0.7777777777777778,
              "#fb9f3a"
             ],
             [
              0.8888888888888888,
              "#fdca26"
             ],
             [
              1,
              "#f0f921"
             ]
            ],
            "type": "surface"
           }
          ],
          "table": [
           {
            "cells": {
             "fill": {
              "color": "#EBF0F8"
             },
             "line": {
              "color": "white"
             }
            },
            "header": {
             "fill": {
              "color": "#C8D4E3"
             },
             "line": {
              "color": "white"
             }
            },
            "type": "table"
           }
          ]
         },
         "layout": {
          "annotationdefaults": {
           "arrowcolor": "#2a3f5f",
           "arrowhead": 0,
           "arrowwidth": 1
          },
          "autotypenumbers": "strict",
          "coloraxis": {
           "colorbar": {
            "outlinewidth": 0,
            "ticks": ""
           }
          },
          "colorscale": {
           "diverging": [
            [
             0,
             "#8e0152"
            ],
            [
             0.1,
             "#c51b7d"
            ],
            [
             0.2,
             "#de77ae"
            ],
            [
             0.3,
             "#f1b6da"
            ],
            [
             0.4,
             "#fde0ef"
            ],
            [
             0.5,
             "#f7f7f7"
            ],
            [
             0.6,
             "#e6f5d0"
            ],
            [
             0.7,
             "#b8e186"
            ],
            [
             0.8,
             "#7fbc41"
            ],
            [
             0.9,
             "#4d9221"
            ],
            [
             1,
             "#276419"
            ]
           ],
           "sequential": [
            [
             0,
             "#0d0887"
            ],
            [
             0.1111111111111111,
             "#46039f"
            ],
            [
             0.2222222222222222,
             "#7201a8"
            ],
            [
             0.3333333333333333,
             "#9c179e"
            ],
            [
             0.4444444444444444,
             "#bd3786"
            ],
            [
             0.5555555555555556,
             "#d8576b"
            ],
            [
             0.6666666666666666,
             "#ed7953"
            ],
            [
             0.7777777777777778,
             "#fb9f3a"
            ],
            [
             0.8888888888888888,
             "#fdca26"
            ],
            [
             1,
             "#f0f921"
            ]
           ],
           "sequentialminus": [
            [
             0,
             "#0d0887"
            ],
            [
             0.1111111111111111,
             "#46039f"
            ],
            [
             0.2222222222222222,
             "#7201a8"
            ],
            [
             0.3333333333333333,
             "#9c179e"
            ],
            [
             0.4444444444444444,
             "#bd3786"
            ],
            [
             0.5555555555555556,
             "#d8576b"
            ],
            [
             0.6666666666666666,
             "#ed7953"
            ],
            [
             0.7777777777777778,
             "#fb9f3a"
            ],
            [
             0.8888888888888888,
             "#fdca26"
            ],
            [
             1,
             "#f0f921"
            ]
           ]
          },
          "colorway": [
           "#636efa",
           "#EF553B",
           "#00cc96",
           "#ab63fa",
           "#FFA15A",
           "#19d3f3",
           "#FF6692",
           "#B6E880",
           "#FF97FF",
           "#FECB52"
          ],
          "font": {
           "color": "#2a3f5f"
          },
          "geo": {
           "bgcolor": "white",
           "lakecolor": "white",
           "landcolor": "#E5ECF6",
           "showlakes": true,
           "showland": true,
           "subunitcolor": "white"
          },
          "hoverlabel": {
           "align": "left"
          },
          "hovermode": "closest",
          "mapbox": {
           "style": "light"
          },
          "paper_bgcolor": "white",
          "plot_bgcolor": "#E5ECF6",
          "polar": {
           "angularaxis": {
            "gridcolor": "white",
            "linecolor": "white",
            "ticks": ""
           },
           "bgcolor": "#E5ECF6",
           "radialaxis": {
            "gridcolor": "white",
            "linecolor": "white",
            "ticks": ""
           }
          },
          "scene": {
           "xaxis": {
            "backgroundcolor": "#E5ECF6",
            "gridcolor": "white",
            "gridwidth": 2,
            "linecolor": "white",
            "showbackground": true,
            "ticks": "",
            "zerolinecolor": "white"
           },
           "yaxis": {
            "backgroundcolor": "#E5ECF6",
            "gridcolor": "white",
            "gridwidth": 2,
            "linecolor": "white",
            "showbackground": true,
            "ticks": "",
            "zerolinecolor": "white"
           },
           "zaxis": {
            "backgroundcolor": "#E5ECF6",
            "gridcolor": "white",
            "gridwidth": 2,
            "linecolor": "white",
            "showbackground": true,
            "ticks": "",
            "zerolinecolor": "white"
           }
          },
          "shapedefaults": {
           "line": {
            "color": "#2a3f5f"
           }
          },
          "ternary": {
           "aaxis": {
            "gridcolor": "white",
            "linecolor": "white",
            "ticks": ""
           },
           "baxis": {
            "gridcolor": "white",
            "linecolor": "white",
            "ticks": ""
           },
           "bgcolor": "#E5ECF6",
           "caxis": {
            "gridcolor": "white",
            "linecolor": "white",
            "ticks": ""
           }
          },
          "title": {
           "x": 0.05
          },
          "xaxis": {
           "automargin": true,
           "gridcolor": "white",
           "linecolor": "white",
           "ticks": "",
           "title": {
            "standoff": 15
           },
           "zerolinecolor": "white",
           "zerolinewidth": 2
          },
          "yaxis": {
           "automargin": true,
           "gridcolor": "white",
           "linecolor": "white",
           "ticks": "",
           "title": {
            "standoff": 15
           },
           "zerolinecolor": "white",
           "zerolinewidth": 2
          }
         }
        },
        "title": {
         "text": "Z Scores of Significantly Different Lipids"
        }
       }
      },
      "text/html": [
       "<div>                            <div id=\"40de3767-7e40-44ca-910b-7748b6d8f2a1\" class=\"plotly-graph-div\" style=\"height:525px; width:100%;\"></div>            <script type=\"text/javascript\">                require([\"plotly\"], function(Plotly) {                    window.PLOTLYENV=window.PLOTLYENV || {};                                    if (document.getElementById(\"40de3767-7e40-44ca-910b-7748b6d8f2a1\")) {                    Plotly.newPlot(                        \"40de3767-7e40-44ca-910b-7748b6d8f2a1\",                        [{\"fill\":\"toself\",\"hovertemplate\":\"IBS Type=IBS-C<br>value=%{r}<br>index=%{theta}<extra></extra>\",\"legendgroup\":\"IBS-C\",\"line\":{\"color\":\"blue\",\"dash\":\"solid\"},\"mode\":\"lines\",\"name\":\"IBS-C\",\"r\":[0.717403117402267,0.38319390582877116,0.24457544629014277,-0.27642174756168214,0.42175316394742357,0.717403117402267],\"showlegend\":true,\"subplot\":\"polar\",\"theta\":[\"palmitic acid (16:0)\",\"margaric acid (17:0)\",\"linoleic acid (18:2n6)\",\"gamma-linolenic acid (18:3n6)\",\"alpha-linolenic acid (18:3n3)\",\"palmitic acid (16:0)\"],\"type\":\"scatterpolar\"},{\"fill\":\"toself\",\"hovertemplate\":\"IBS Type=IBS-D<br>value=%{r}<br>index=%{theta}<extra></extra>\",\"legendgroup\":\"IBS-D\",\"line\":{\"color\":\"red\",\"dash\":\"solid\"},\"mode\":\"lines\",\"name\":\"IBS-D\",\"r\":[-0.13600043408169424,-0.13903257082223872,-0.43910964725683777,-0.22378224131837557,-0.2989692347998195,-0.13600043408169424],\"showlegend\":true,\"subplot\":\"polar\",\"theta\":[\"palmitic acid (16:0)\",\"margaric acid (17:0)\",\"linoleic acid (18:2n6)\",\"gamma-linolenic acid (18:3n6)\",\"alpha-linolenic acid (18:3n3)\",\"palmitic acid (16:0)\"],\"type\":\"scatterpolar\"},{\"fill\":\"toself\",\"hovertemplate\":\"IBS Type=IBS-M<br>value=%{r}<br>index=%{theta}<extra></extra>\",\"legendgroup\":\"IBS-M\",\"line\":{\"color\":\"purple\",\"dash\":\"solid\"},\"mode\":\"lines\",\"name\":\"IBS-M\",\"r\":[0.16797273321967118,0.38627713106062345,-0.03879993956300298,-0.2659267411093639,-0.09584996733515842,0.16797273321967118],\"showlegend\":true,\"subplot\":\"polar\",\"theta\":[\"palmitic acid (16:0)\",\"margaric acid (17:0)\",\"linoleic acid (18:2n6)\",\"gamma-linolenic acid (18:3n6)\",\"alpha-linolenic acid (18:3n3)\",\"palmitic acid (16:0)\"],\"type\":\"scatterpolar\"},{\"fill\":\"toself\",\"hovertemplate\":\"IBS Type=control<br>value=%{r}<br>index=%{theta}<extra></extra>\",\"legendgroup\":\"control\",\"line\":{\"color\":\"green\",\"dash\":\"solid\"},\"mode\":\"lines\",\"name\":\"control\",\"r\":[-0.44626098143044507,-0.43552709616928204,0.3284544261541205,0.7521867859450965,0.08781338251700092,-0.44626098143044507],\"showlegend\":true,\"subplot\":\"polar\",\"theta\":[\"palmitic acid (16:0)\",\"margaric acid (17:0)\",\"linoleic acid (18:2n6)\",\"gamma-linolenic acid (18:3n6)\",\"alpha-linolenic acid (18:3n3)\",\"palmitic acid (16:0)\"],\"type\":\"scatterpolar\"}],                        {\"legend\":{\"title\":{\"text\":\"IBS Type\"},\"tracegroupgap\":0},\"polar\":{\"angularaxis\":{\"direction\":\"clockwise\",\"rotation\":90},\"domain\":{\"x\":[0.0,1.0],\"y\":[0.0,1.0]},\"radialaxis\":{\"range\":[-1,1],\"visible\":true}},\"template\":{\"data\":{\"bar\":[{\"error_x\":{\"color\":\"#2a3f5f\"},\"error_y\":{\"color\":\"#2a3f5f\"},\"marker\":{\"line\":{\"color\":\"#E5ECF6\",\"width\":0.5},\"pattern\":{\"fillmode\":\"overlay\",\"size\":10,\"solidity\":0.2}},\"type\":\"bar\"}],\"barpolar\":[{\"marker\":{\"line\":{\"color\":\"#E5ECF6\",\"width\":0.5},\"pattern\":{\"fillmode\":\"overlay\",\"size\":10,\"solidity\":0.2}},\"type\":\"barpolar\"}],\"carpet\":[{\"aaxis\":{\"endlinecolor\":\"#2a3f5f\",\"gridcolor\":\"white\",\"linecolor\":\"white\",\"minorgridcolor\":\"white\",\"startlinecolor\":\"#2a3f5f\"},\"baxis\":{\"endlinecolor\":\"#2a3f5f\",\"gridcolor\":\"white\",\"linecolor\":\"white\",\"minorgridcolor\":\"white\",\"startlinecolor\":\"#2a3f5f\"},\"type\":\"carpet\"}],\"choropleth\":[{\"colorbar\":{\"outlinewidth\":0,\"ticks\":\"\"},\"type\":\"choropleth\"}],\"contour\":[{\"colorbar\":{\"outlinewidth\":0,\"ticks\":\"\"},\"colorscale\":[[0.0,\"#0d0887\"],[0.1111111111111111,\"#46039f\"],[0.2222222222222222,\"#7201a8\"],[0.3333333333333333,\"#9c179e\"],[0.4444444444444444,\"#bd3786\"],[0.5555555555555556,\"#d8576b\"],[0.6666666666666666,\"#ed7953\"],[0.7777777777777778,\"#fb9f3a\"],[0.8888888888888888,\"#fdca26\"],[1.0,\"#f0f921\"]],\"type\":\"contour\"}],\"contourcarpet\":[{\"colorbar\":{\"outlinewidth\":0,\"ticks\":\"\"},\"type\":\"contourcarpet\"}],\"heatmap\":[{\"colorbar\":{\"outlinewidth\":0,\"ticks\":\"\"},\"colorscale\":[[0.0,\"#0d0887\"],[0.1111111111111111,\"#46039f\"],[0.2222222222222222,\"#7201a8\"],[0.3333333333333333,\"#9c179e\"],[0.4444444444444444,\"#bd3786\"],[0.5555555555555556,\"#d8576b\"],[0.6666666666666666,\"#ed7953\"],[0.7777777777777778,\"#fb9f3a\"],[0.8888888888888888,\"#fdca26\"],[1.0,\"#f0f921\"]],\"type\":\"heatmap\"}],\"heatmapgl\":[{\"colorbar\":{\"outlinewidth\":0,\"ticks\":\"\"},\"colorscale\":[[0.0,\"#0d0887\"],[0.1111111111111111,\"#46039f\"],[0.2222222222222222,\"#7201a8\"],[0.3333333333333333,\"#9c179e\"],[0.4444444444444444,\"#bd3786\"],[0.5555555555555556,\"#d8576b\"],[0.6666666666666666,\"#ed7953\"],[0.7777777777777778,\"#fb9f3a\"],[0.8888888888888888,\"#fdca26\"],[1.0,\"#f0f921\"]],\"type\":\"heatmapgl\"}],\"histogram\":[{\"marker\":{\"pattern\":{\"fillmode\":\"overlay\",\"size\":10,\"solidity\":0.2}},\"type\":\"histogram\"}],\"histogram2d\":[{\"colorbar\":{\"outlinewidth\":0,\"ticks\":\"\"},\"colorscale\":[[0.0,\"#0d0887\"],[0.1111111111111111,\"#46039f\"],[0.2222222222222222,\"#7201a8\"],[0.3333333333333333,\"#9c179e\"],[0.4444444444444444,\"#bd3786\"],[0.5555555555555556,\"#d8576b\"],[0.6666666666666666,\"#ed7953\"],[0.7777777777777778,\"#fb9f3a\"],[0.8888888888888888,\"#fdca26\"],[1.0,\"#f0f921\"]],\"type\":\"histogram2d\"}],\"histogram2dcontour\":[{\"colorbar\":{\"outlinewidth\":0,\"ticks\":\"\"},\"colorscale\":[[0.0,\"#0d0887\"],[0.1111111111111111,\"#46039f\"],[0.2222222222222222,\"#7201a8\"],[0.3333333333333333,\"#9c179e\"],[0.4444444444444444,\"#bd3786\"],[0.5555555555555556,\"#d8576b\"],[0.6666666666666666,\"#ed7953\"],[0.7777777777777778,\"#fb9f3a\"],[0.8888888888888888,\"#fdca26\"],[1.0,\"#f0f921\"]],\"type\":\"histogram2dcontour\"}],\"mesh3d\":[{\"colorbar\":{\"outlinewidth\":0,\"ticks\":\"\"},\"type\":\"mesh3d\"}],\"parcoords\":[{\"line\":{\"colorbar\":{\"outlinewidth\":0,\"ticks\":\"\"}},\"type\":\"parcoords\"}],\"pie\":[{\"automargin\":true,\"type\":\"pie\"}],\"scatter\":[{\"marker\":{\"colorbar\":{\"outlinewidth\":0,\"ticks\":\"\"}},\"type\":\"scatter\"}],\"scatter3d\":[{\"line\":{\"colorbar\":{\"outlinewidth\":0,\"ticks\":\"\"}},\"marker\":{\"colorbar\":{\"outlinewidth\":0,\"ticks\":\"\"}},\"type\":\"scatter3d\"}],\"scattercarpet\":[{\"marker\":{\"colorbar\":{\"outlinewidth\":0,\"ticks\":\"\"}},\"type\":\"scattercarpet\"}],\"scattergeo\":[{\"marker\":{\"colorbar\":{\"outlinewidth\":0,\"ticks\":\"\"}},\"type\":\"scattergeo\"}],\"scattergl\":[{\"marker\":{\"colorbar\":{\"outlinewidth\":0,\"ticks\":\"\"}},\"type\":\"scattergl\"}],\"scattermapbox\":[{\"marker\":{\"colorbar\":{\"outlinewidth\":0,\"ticks\":\"\"}},\"type\":\"scattermapbox\"}],\"scatterpolar\":[{\"marker\":{\"colorbar\":{\"outlinewidth\":0,\"ticks\":\"\"}},\"type\":\"scatterpolar\"}],\"scatterpolargl\":[{\"marker\":{\"colorbar\":{\"outlinewidth\":0,\"ticks\":\"\"}},\"type\":\"scatterpolargl\"}],\"scatterternary\":[{\"marker\":{\"colorbar\":{\"outlinewidth\":0,\"ticks\":\"\"}},\"type\":\"scatterternary\"}],\"surface\":[{\"colorbar\":{\"outlinewidth\":0,\"ticks\":\"\"},\"colorscale\":[[0.0,\"#0d0887\"],[0.1111111111111111,\"#46039f\"],[0.2222222222222222,\"#7201a8\"],[0.3333333333333333,\"#9c179e\"],[0.4444444444444444,\"#bd3786\"],[0.5555555555555556,\"#d8576b\"],[0.6666666666666666,\"#ed7953\"],[0.7777777777777778,\"#fb9f3a\"],[0.8888888888888888,\"#fdca26\"],[1.0,\"#f0f921\"]],\"type\":\"surface\"}],\"table\":[{\"cells\":{\"fill\":{\"color\":\"#EBF0F8\"},\"line\":{\"color\":\"white\"}},\"header\":{\"fill\":{\"color\":\"#C8D4E3\"},\"line\":{\"color\":\"white\"}},\"type\":\"table\"}]},\"layout\":{\"annotationdefaults\":{\"arrowcolor\":\"#2a3f5f\",\"arrowhead\":0,\"arrowwidth\":1},\"autotypenumbers\":\"strict\",\"coloraxis\":{\"colorbar\":{\"outlinewidth\":0,\"ticks\":\"\"}},\"colorscale\":{\"diverging\":[[0,\"#8e0152\"],[0.1,\"#c51b7d\"],[0.2,\"#de77ae\"],[0.3,\"#f1b6da\"],[0.4,\"#fde0ef\"],[0.5,\"#f7f7f7\"],[0.6,\"#e6f5d0\"],[0.7,\"#b8e186\"],[0.8,\"#7fbc41\"],[0.9,\"#4d9221\"],[1,\"#276419\"]],\"sequential\":[[0.0,\"#0d0887\"],[0.1111111111111111,\"#46039f\"],[0.2222222222222222,\"#7201a8\"],[0.3333333333333333,\"#9c179e\"],[0.4444444444444444,\"#bd3786\"],[0.5555555555555556,\"#d8576b\"],[0.6666666666666666,\"#ed7953\"],[0.7777777777777778,\"#fb9f3a\"],[0.8888888888888888,\"#fdca26\"],[1.0,\"#f0f921\"]],\"sequentialminus\":[[0.0,\"#0d0887\"],[0.1111111111111111,\"#46039f\"],[0.2222222222222222,\"#7201a8\"],[0.3333333333333333,\"#9c179e\"],[0.4444444444444444,\"#bd3786\"],[0.5555555555555556,\"#d8576b\"],[0.6666666666666666,\"#ed7953\"],[0.7777777777777778,\"#fb9f3a\"],[0.8888888888888888,\"#fdca26\"],[1.0,\"#f0f921\"]]},\"colorway\":[\"#636efa\",\"#EF553B\",\"#00cc96\",\"#ab63fa\",\"#FFA15A\",\"#19d3f3\",\"#FF6692\",\"#B6E880\",\"#FF97FF\",\"#FECB52\"],\"font\":{\"color\":\"#2a3f5f\"},\"geo\":{\"bgcolor\":\"white\",\"lakecolor\":\"white\",\"landcolor\":\"#E5ECF6\",\"showlakes\":true,\"showland\":true,\"subunitcolor\":\"white\"},\"hoverlabel\":{\"align\":\"left\"},\"hovermode\":\"closest\",\"mapbox\":{\"style\":\"light\"},\"paper_bgcolor\":\"white\",\"plot_bgcolor\":\"#E5ECF6\",\"polar\":{\"angularaxis\":{\"gridcolor\":\"white\",\"linecolor\":\"white\",\"ticks\":\"\"},\"bgcolor\":\"#E5ECF6\",\"radialaxis\":{\"gridcolor\":\"white\",\"linecolor\":\"white\",\"ticks\":\"\"}},\"scene\":{\"xaxis\":{\"backgroundcolor\":\"#E5ECF6\",\"gridcolor\":\"white\",\"gridwidth\":2,\"linecolor\":\"white\",\"showbackground\":true,\"ticks\":\"\",\"zerolinecolor\":\"white\"},\"yaxis\":{\"backgroundcolor\":\"#E5ECF6\",\"gridcolor\":\"white\",\"gridwidth\":2,\"linecolor\":\"white\",\"showbackground\":true,\"ticks\":\"\",\"zerolinecolor\":\"white\"},\"zaxis\":{\"backgroundcolor\":\"#E5ECF6\",\"gridcolor\":\"white\",\"gridwidth\":2,\"linecolor\":\"white\",\"showbackground\":true,\"ticks\":\"\",\"zerolinecolor\":\"white\"}},\"shapedefaults\":{\"line\":{\"color\":\"#2a3f5f\"}},\"ternary\":{\"aaxis\":{\"gridcolor\":\"white\",\"linecolor\":\"white\",\"ticks\":\"\"},\"baxis\":{\"gridcolor\":\"white\",\"linecolor\":\"white\",\"ticks\":\"\"},\"bgcolor\":\"#E5ECF6\",\"caxis\":{\"gridcolor\":\"white\",\"linecolor\":\"white\",\"ticks\":\"\"}},\"title\":{\"x\":0.05},\"xaxis\":{\"automargin\":true,\"gridcolor\":\"white\",\"linecolor\":\"white\",\"ticks\":\"\",\"title\":{\"standoff\":15},\"zerolinecolor\":\"white\",\"zerolinewidth\":2},\"yaxis\":{\"automargin\":true,\"gridcolor\":\"white\",\"linecolor\":\"white\",\"ticks\":\"\",\"title\":{\"standoff\":15},\"zerolinecolor\":\"white\",\"zerolinewidth\":2}}},\"title\":{\"text\":\"Z Scores of Significantly Different Lipids\"}},                        {\"responsive\": true}                    ).then(function(){\n",
       "                            \n",
       "var gd = document.getElementById('40de3767-7e40-44ca-910b-7748b6d8f2a1');\n",
       "var x = new MutationObserver(function (mutations, observer) {{\n",
       "        var display = window.getComputedStyle(gd).display;\n",
       "        if (!display || display === 'none') {{\n",
       "            console.log([gd, 'removed!']);\n",
       "            Plotly.purge(gd);\n",
       "            observer.disconnect();\n",
       "        }}\n",
       "}});\n",
       "\n",
       "// Listen for the removal of the full notebook cells\n",
       "var notebookContainer = gd.closest('#notebook-container');\n",
       "if (notebookContainer) {{\n",
       "    x.observe(notebookContainer, {childList: true});\n",
       "}}\n",
       "\n",
       "// Listen for the clearing of the current output cell\n",
       "var outputEl = gd.closest('.output');\n",
       "if (outputEl) {{\n",
       "    x.observe(outputEl, {childList: true});\n",
       "}}\n",
       "\n",
       "                        })                };                });            </script>        </div>"
      ]
     },
     "metadata": {},
     "output_type": "display_data"
    }
   ],
   "source": [
    "import plotly.express as px\n",
    "import pandas as pd\n",
    "fig = px.line_polar(pd.melt(sub_sig_mean_df.T.reset_index(), id_vars=\"index\"), r='value', \n",
    "                    theta='index', color='IBS Type',\n",
    "                    color_discrete_sequence=[\"blue\",\"red\",\"purple\",\"green\"],\n",
    "                    title=\"Z Scores of Significantly Different Lipids\",\n",
    "                    line_close=True)\n",
    "fig.update_layout(\n",
    "  polar=dict(\n",
    "    radialaxis=dict(\n",
    "      visible=True,\n",
    "      range=[-1, 1]\n",
    "    )))\n",
    "fig.update_traces(fill='toself')\n",
    "fig.show()\n",
    "fig.write_html(\"Figures/Metabolome_Z_radar_filled.html\")"
   ]
  },
  {
   "cell_type": "code",
   "execution_count": null,
   "metadata": {},
   "outputs": [],
   "source": []
  }
 ],
 "metadata": {
  "kernelspec": {
   "display_name": "Python 3",
   "language": "python",
   "name": "python3"
  },
  "language_info": {
   "codemirror_mode": {
    "name": "ipython",
    "version": 3
   },
   "file_extension": ".py",
   "mimetype": "text/x-python",
   "name": "python",
   "nbconvert_exporter": "python",
   "pygments_lexer": "ipython3",
   "version": "3.6.12"
  }
 },
 "nbformat": 4,
 "nbformat_minor": 5
}
